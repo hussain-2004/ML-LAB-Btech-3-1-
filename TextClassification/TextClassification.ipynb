{
 "cells": [
  {
   "cell_type": "markdown",
   "id": "e9fc42c1",
   "metadata": {},
   "source": [
    "## Naive Bayes Model - Text Classification Example."
   ]
  },
  {
   "cell_type": "code",
   "execution_count": 1,
   "id": "d99299a2",
   "metadata": {},
   "outputs": [],
   "source": [
    "import pandas as pd"
   ]
  },
  {
   "cell_type": "code",
   "execution_count": 2,
   "id": "f9026745",
   "metadata": {},
   "outputs": [],
   "source": [
    "data = {\n",
    "    \"Document ID\":[1,2,3,4,5,6],\n",
    "    \"Keywords in the document\":[\"Love Happy Joy Joy Happy\",\"Happy Love Kick Joy Happy\",\"Love Move Joy Good\",\"Love Happy Joy Love Pain\",\"Joy Love Pain Kick Pain\",\"Pain Pain Love Kick\"],\n",
    "    \"Class_h\":[\"Yes\",\"Yes\",\"Yes\",\"Yes\",\"No\",\"No\"]\n",
    "}"
   ]
  },
  {
   "cell_type": "code",
   "execution_count": 3,
   "id": "7cb44d71",
   "metadata": {},
   "outputs": [],
   "source": [
    "df = pd.DataFrame(data)"
   ]
  },
  {
   "cell_type": "code",
   "execution_count": 4,
   "id": "f5d9e0cb",
   "metadata": {},
   "outputs": [
    {
     "data": {
      "text/html": [
       "<div>\n",
       "<style scoped>\n",
       "    .dataframe tbody tr th:only-of-type {\n",
       "        vertical-align: middle;\n",
       "    }\n",
       "\n",
       "    .dataframe tbody tr th {\n",
       "        vertical-align: top;\n",
       "    }\n",
       "\n",
       "    .dataframe thead th {\n",
       "        text-align: right;\n",
       "    }\n",
       "</style>\n",
       "<table border=\"1\" class=\"dataframe\">\n",
       "  <thead>\n",
       "    <tr style=\"text-align: right;\">\n",
       "      <th></th>\n",
       "      <th>Document ID</th>\n",
       "      <th>Keywords in the document</th>\n",
       "      <th>Class_h</th>\n",
       "    </tr>\n",
       "  </thead>\n",
       "  <tbody>\n",
       "    <tr>\n",
       "      <th>0</th>\n",
       "      <td>1</td>\n",
       "      <td>Love Happy Joy Joy Happy</td>\n",
       "      <td>Yes</td>\n",
       "    </tr>\n",
       "    <tr>\n",
       "      <th>1</th>\n",
       "      <td>2</td>\n",
       "      <td>Happy Love Kick Joy Happy</td>\n",
       "      <td>Yes</td>\n",
       "    </tr>\n",
       "    <tr>\n",
       "      <th>2</th>\n",
       "      <td>3</td>\n",
       "      <td>Love Move Joy Good</td>\n",
       "      <td>Yes</td>\n",
       "    </tr>\n",
       "    <tr>\n",
       "      <th>3</th>\n",
       "      <td>4</td>\n",
       "      <td>Love Happy Joy Love Pain</td>\n",
       "      <td>Yes</td>\n",
       "    </tr>\n",
       "    <tr>\n",
       "      <th>4</th>\n",
       "      <td>5</td>\n",
       "      <td>Joy Love Pain Kick Pain</td>\n",
       "      <td>No</td>\n",
       "    </tr>\n",
       "    <tr>\n",
       "      <th>5</th>\n",
       "      <td>6</td>\n",
       "      <td>Pain Pain Love Kick</td>\n",
       "      <td>No</td>\n",
       "    </tr>\n",
       "  </tbody>\n",
       "</table>\n",
       "</div>"
      ],
      "text/plain": [
       "   Document ID   Keywords in the document Class_h\n",
       "0            1   Love Happy Joy Joy Happy     Yes\n",
       "1            2  Happy Love Kick Joy Happy     Yes\n",
       "2            3         Love Move Joy Good     Yes\n",
       "3            4   Love Happy Joy Love Pain     Yes\n",
       "4            5    Joy Love Pain Kick Pain      No\n",
       "5            6        Pain Pain Love Kick      No"
      ]
     },
     "execution_count": 4,
     "metadata": {},
     "output_type": "execute_result"
    }
   ],
   "source": [
    "df"
   ]
  },
  {
   "cell_type": "code",
   "execution_count": 5,
   "id": "72f590da",
   "metadata": {},
   "outputs": [
    {
     "name": "stdout",
     "output_type": "stream",
     "text": [
      "4 2 6\n"
     ]
    }
   ],
   "source": [
    "#calculating number of yes and no classified instances.\n",
    "yes_count = df['Class_h'].value_counts()[\"Yes\"]\n",
    "no_count = df['Class_h'].value_counts()[\"No\"]\n",
    "total = yes_count + no_count\n",
    "print(yes_count,no_count,total)"
   ]
  },
  {
   "cell_type": "code",
   "execution_count": 6,
   "id": "20b22659",
   "metadata": {},
   "outputs": [
    {
     "name": "stdout",
     "output_type": "stream",
     "text": [
      "0.6666666666666666 0.3333333333333333\n"
     ]
    }
   ],
   "source": [
    "# probability of yes and no\n",
    "prob_yes = yes_count/total\n",
    "prob_no = no_count/total\n",
    "print(prob_yes,prob_no)"
   ]
  },
  {
   "cell_type": "code",
   "execution_count": 7,
   "id": "ceef408c",
   "metadata": {},
   "outputs": [],
   "source": [
    "yes_freq = dict() # empty dictionary\n",
    "no_freq = dict()\n",
    "words_yes = 0\n",
    "words_no = 0"
   ]
  },
  {
   "cell_type": "code",
   "execution_count": 8,
   "id": "a3195921",
   "metadata": {},
   "outputs": [],
   "source": [
    "for i in range(len(df)):\n",
    "    lst = df.loc[i,'Keywords in the document'].split()\n",
    "    target = df.loc[i,'Class_h']\n",
    "    for word in lst:\n",
    "        if(target == \"Yes\"):\n",
    "            words_yes += 1\n",
    "            if(word in yes_freq):\n",
    "                yes_freq[word] += 1\n",
    "            else:\n",
    "                yes_freq[word] = 1\n",
    "        else:\n",
    "            words_no += 1\n",
    "            if(word in no_freq):\n",
    "                no_freq[word] += 1\n",
    "            else:\n",
    "                no_freq[word] = 1"
   ]
  },
  {
   "cell_type": "code",
   "execution_count": 9,
   "id": "e6f16f6c",
   "metadata": {},
   "outputs": [
    {
     "name": "stdout",
     "output_type": "stream",
     "text": [
      "{'Love': 5, 'Happy': 5, 'Joy': 5, 'Kick': 1, 'Move': 1, 'Good': 1, 'Pain': 1}\n"
     ]
    }
   ],
   "source": [
    "print(yes_freq)"
   ]
  },
  {
   "cell_type": "code",
   "execution_count": 10,
   "id": "4bbb020f",
   "metadata": {},
   "outputs": [
    {
     "name": "stdout",
     "output_type": "stream",
     "text": [
      "{'Joy': 1, 'Love': 2, 'Pain': 4, 'Kick': 2}\n"
     ]
    }
   ],
   "source": [
    "print(no_freq)"
   ]
  },
  {
   "cell_type": "code",
   "execution_count": 11,
   "id": "4d32dfb4",
   "metadata": {},
   "outputs": [
    {
     "name": "stdout",
     "output_type": "stream",
     "text": [
      "19 9\n"
     ]
    }
   ],
   "source": [
    "print(words_yes,words_no)"
   ]
  },
  {
   "cell_type": "code",
   "execution_count": 12,
   "id": "6b12f1e9",
   "metadata": {},
   "outputs": [],
   "source": [
    "new_instance = \"Love Pain Joy Love Kick\"\n",
    "new_instance_list = new_instance.split()"
   ]
  },
  {
   "cell_type": "code",
   "execution_count": 13,
   "id": "89590c7f",
   "metadata": {
    "scrolled": true
   },
   "outputs": [
    {
     "name": "stdout",
     "output_type": "stream",
     "text": [
      "3.3655089450516034e-05 0.00018064093662325633\n"
     ]
    }
   ],
   "source": [
    "yes = prob_yes\n",
    "no = prob_no\n",
    "for word in new_instance_list:\n",
    "    yes *= (yes_freq[word] / words_yes)\n",
    "    no *= (no_freq[word] / words_no)\n",
    "print(yes,no)"
   ]
  },
  {
   "cell_type": "code",
   "execution_count": 14,
   "id": "840ed5f6",
   "metadata": {},
   "outputs": [
    {
     "name": "stdout",
     "output_type": "stream",
     "text": [
      "0.15704952661572044 0.8429504733842795\n"
     ]
    }
   ],
   "source": [
    "#normalization\n",
    "yes = yes / (yes+no)\n",
    "no = 1 - yes\n",
    "print(yes,no)"
   ]
  },
  {
   "cell_type": "code",
   "execution_count": 15,
   "id": "abef2c8a",
   "metadata": {},
   "outputs": [
    {
     "name": "stdout",
     "output_type": "stream",
     "text": [
      "Class Label for testing example is : No\n"
     ]
    }
   ],
   "source": [
    "if(yes > no):\n",
    "    print(\"Class Label for testing example is : Yes\")\n",
    "else:\n",
    "    print(\"Class Label for testing example is : No\")"
   ]
  },
  {
   "cell_type": "code",
   "execution_count": null,
   "id": "28dcfc33",
   "metadata": {},
   "outputs": [],
   "source": []
  }
 ],
 "metadata": {
  "kernelspec": {
   "display_name": "Python 3 (ipykernel)",
   "language": "python",
   "name": "python3"
  },
  "language_info": {
   "codemirror_mode": {
    "name": "ipython",
    "version": 3
   },
   "file_extension": ".py",
   "mimetype": "text/x-python",
   "name": "python",
   "nbconvert_exporter": "python",
   "pygments_lexer": "ipython3",
   "version": "3.9.13"
  }
 },
 "nbformat": 4,
 "nbformat_minor": 5
}
