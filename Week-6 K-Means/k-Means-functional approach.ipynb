{
 "cells": [
  {
   "cell_type": "code",
   "execution_count": 1,
   "id": "825caa8f",
   "metadata": {},
   "outputs": [],
   "source": [
    "import pandas as pd"
   ]
  },
  {
   "cell_type": "code",
   "execution_count": 2,
   "id": "7a1a4c3d",
   "metadata": {},
   "outputs": [],
   "source": [
    "def fun(df,r,k,centroid):\n",
    "    while(True):\n",
    "        for i in range(r):\n",
    "            row_distance = []\n",
    "            for j in range(k):\n",
    "                #calculating the eucledian distance.\n",
    "                x1 = df.iloc[i,0]\n",
    "                y1 = df.iloc[i,1]\n",
    "\n",
    "                x2 = centroid[j][0]\n",
    "                y2 = centroid[j][1]\n",
    "\n",
    "                ed = ((x2-x1)**2+(y2-y1)**2)**0.5\n",
    "                ed = round(ed,2)\n",
    "                df.iloc[i,j+2] = ed\n",
    "                row_distance.append(ed)\n",
    "            min_dist = min(row_distance)\n",
    "            df.loc[i,\"new_cluster\"] = row_distance.index(min_dist)+1\n",
    "        #check whether new cluster and old cluster values are same or not\n",
    "        if(df['cluster'].equals(df['new_cluster'])):  #is equal break the loop.\n",
    "            break \n",
    "        else:\n",
    "            # updating, centroid values.\n",
    "            temp_list = [[0, 0] for _ in range(k)]\n",
    "            for i in range(r):\n",
    "                cluster_val = df.loc[i,\"new_cluster\"] # new cluster value\n",
    "                x = df.iloc[i,0]\n",
    "                y = df.iloc[i,1]\n",
    "                temp_list[cluster_val - 1][0] += x\n",
    "                temp_list[cluster_val - 1][1] += y\n",
    "            for i in range(len(temp_list)):\n",
    "                frequency = df['new_cluster'].value_counts().get(i+1, 0)\n",
    "                if(frequency>0):\n",
    "                    temp_list[i][0] = temp_list[i][0]/frequency\n",
    "                    temp_list[i][1] = temp_list[i][1]/frequency\n",
    "            centroid = temp_list\n",
    "            #new cluster becomes old cluster, loop repeats again.   \n",
    "            df['cluster'] = df['new_cluster']\n",
    "    return [df,centroid]\n",
    "    #     break\n",
    "            "
   ]
  },
  {
   "cell_type": "code",
   "execution_count": 3,
   "id": "46c1bf4e",
   "metadata": {},
   "outputs": [],
   "source": [
    "df=pd.DataFrame({'X':[2,2,8,5,7,6,1,4],'Y':[10,5,4,8,5,4,2,9]})"
   ]
  },
  {
   "cell_type": "code",
   "execution_count": 4,
   "id": "0f03afaa",
   "metadata": {},
   "outputs": [],
   "source": [
    "df.insert(2,'A',[None]*df.shape[0],True)\n",
    "df.insert(3,'B',[None]*df.shape[0],True)\n",
    "df.insert(4,'C',[None]*df.shape[0],True)"
   ]
  },
  {
   "cell_type": "code",
   "execution_count": 5,
   "id": "0bd7848d",
   "metadata": {},
   "outputs": [],
   "source": [
    "df.insert(5,'cluster',[None]*df.shape[0],True)\n",
    "df.insert(6,'new_cluster',[None]*df.shape[0],True)"
   ]
  },
  {
   "cell_type": "code",
   "execution_count": 6,
   "id": "bf2fb798",
   "metadata": {},
   "outputs": [],
   "source": [
    "#consider three centroids a1,b1,c1 initially\n",
    "centroid  = [(2,10),(5,8),(1,2)]"
   ]
  },
  {
   "cell_type": "code",
   "execution_count": 7,
   "id": "9d226ab9",
   "metadata": {},
   "outputs": [
    {
     "name": "stdout",
     "output_type": "stream",
     "text": [
      "   X   Y     A     B     C cluster new_cluster\n",
      "0  2  10  1.94  7.56  6.52       1           1\n",
      "1  2   5  4.33  5.04  1.58       3           3\n",
      "2  8   4  6.62  1.05  6.52       2           2\n",
      "3  5   8  1.67  4.18   5.7       1           1\n",
      "4  7   5  5.21  0.67   5.7       2           2\n",
      "5  6   4  5.52  1.05  4.53       2           2\n",
      "6  1   2  7.49  6.44  1.58       3           3\n",
      "7  4   9  0.33  5.55  6.04       1           1\n",
      "[[3.6666666666666665, 9.0], [7.0, 4.333333333333333], [1.5, 3.5]]\n"
     ]
    }
   ],
   "source": [
    "df,centroid = fun(df,len(df),len(centroid),centroid)\n",
    "print(df)\n",
    "print(centroid)"
   ]
  },
  {
   "cell_type": "code",
   "execution_count": 8,
   "id": "7795b918",
   "metadata": {},
   "outputs": [
    {
     "name": "stdout",
     "output_type": "stream",
     "text": [
      "[3.2829526005987018, 2.6034165586355518, 4.301162633521313]\n"
     ]
    }
   ],
   "source": [
    "new_data_point = [5,6]\n",
    "dist = []\n",
    "for i in centroid:\n",
    "    temp = ((i[0]-new_data_point[0])**2+(i[1]-new_data_point[1])**2)**0.5\n",
    "    dist.append(temp)\n",
    "print(dist)"
   ]
  },
  {
   "cell_type": "code",
   "execution_count": 9,
   "id": "3c880d5f",
   "metadata": {},
   "outputs": [
    {
     "name": "stdout",
     "output_type": "stream",
     "text": [
      "Predicted cluster group =  2\n"
     ]
    }
   ],
   "source": [
    "print(\"Predicted cluster group = \",dist.index(min(dist))+1)"
   ]
  },
  {
   "cell_type": "code",
   "execution_count": 10,
   "id": "11486816",
   "metadata": {},
   "outputs": [],
   "source": [
    "df=pd.DataFrame({'X':[1.713,0.180,0.353,0.940,1.486,1.266,1.540,0.459,0.773],'Y':[1.586,1.786,1.240,1.566,0.759,1.106,0.419,1.799,0.186]})"
   ]
  },
  {
   "cell_type": "code",
   "execution_count": 11,
   "id": "1ca01194",
   "metadata": {},
   "outputs": [],
   "source": [
    "df.insert(2,'A',[None]*df.shape[0],True)\n",
    "df.insert(3,'B',[None]*df.shape[0],True)\n",
    "df.insert(4,'C',[None]*df.shape[0],True)"
   ]
  },
  {
   "cell_type": "code",
   "execution_count": 12,
   "id": "84ff2327",
   "metadata": {},
   "outputs": [],
   "source": [
    "df.insert(5,'cluster',[None]*df.shape[0],True)\n",
    "df.insert(6,'new_cluster',[None]*df.shape[0],True)"
   ]
  },
  {
   "cell_type": "code",
   "execution_count": 13,
   "id": "e0675765",
   "metadata": {},
   "outputs": [],
   "source": [
    "#consider two centroids randomly.\n",
    "centroid  = [(1.716,1.586),(0.180,1.786)]"
   ]
  },
  {
   "cell_type": "code",
   "execution_count": 14,
   "id": "5f655367",
   "metadata": {},
   "outputs": [
    {
     "data": {
      "text/html": [
       "<div>\n",
       "<style scoped>\n",
       "    .dataframe tbody tr th:only-of-type {\n",
       "        vertical-align: middle;\n",
       "    }\n",
       "\n",
       "    .dataframe tbody tr th {\n",
       "        vertical-align: top;\n",
       "    }\n",
       "\n",
       "    .dataframe thead th {\n",
       "        text-align: right;\n",
       "    }\n",
       "</style>\n",
       "<table border=\"1\" class=\"dataframe\">\n",
       "  <thead>\n",
       "    <tr style=\"text-align: right;\">\n",
       "      <th></th>\n",
       "      <th>X</th>\n",
       "      <th>Y</th>\n",
       "      <th>A</th>\n",
       "      <th>B</th>\n",
       "      <th>C</th>\n",
       "      <th>cluster</th>\n",
       "      <th>new_cluster</th>\n",
       "    </tr>\n",
       "  </thead>\n",
       "  <tbody>\n",
       "    <tr>\n",
       "      <th>0</th>\n",
       "      <td>1.713</td>\n",
       "      <td>1.586</td>\n",
       "      <td>None</td>\n",
       "      <td>None</td>\n",
       "      <td>None</td>\n",
       "      <td>None</td>\n",
       "      <td>None</td>\n",
       "    </tr>\n",
       "    <tr>\n",
       "      <th>1</th>\n",
       "      <td>0.180</td>\n",
       "      <td>1.786</td>\n",
       "      <td>None</td>\n",
       "      <td>None</td>\n",
       "      <td>None</td>\n",
       "      <td>None</td>\n",
       "      <td>None</td>\n",
       "    </tr>\n",
       "    <tr>\n",
       "      <th>2</th>\n",
       "      <td>0.353</td>\n",
       "      <td>1.240</td>\n",
       "      <td>None</td>\n",
       "      <td>None</td>\n",
       "      <td>None</td>\n",
       "      <td>None</td>\n",
       "      <td>None</td>\n",
       "    </tr>\n",
       "    <tr>\n",
       "      <th>3</th>\n",
       "      <td>0.940</td>\n",
       "      <td>1.566</td>\n",
       "      <td>None</td>\n",
       "      <td>None</td>\n",
       "      <td>None</td>\n",
       "      <td>None</td>\n",
       "      <td>None</td>\n",
       "    </tr>\n",
       "    <tr>\n",
       "      <th>4</th>\n",
       "      <td>1.486</td>\n",
       "      <td>0.759</td>\n",
       "      <td>None</td>\n",
       "      <td>None</td>\n",
       "      <td>None</td>\n",
       "      <td>None</td>\n",
       "      <td>None</td>\n",
       "    </tr>\n",
       "    <tr>\n",
       "      <th>5</th>\n",
       "      <td>1.266</td>\n",
       "      <td>1.106</td>\n",
       "      <td>None</td>\n",
       "      <td>None</td>\n",
       "      <td>None</td>\n",
       "      <td>None</td>\n",
       "      <td>None</td>\n",
       "    </tr>\n",
       "    <tr>\n",
       "      <th>6</th>\n",
       "      <td>1.540</td>\n",
       "      <td>0.419</td>\n",
       "      <td>None</td>\n",
       "      <td>None</td>\n",
       "      <td>None</td>\n",
       "      <td>None</td>\n",
       "      <td>None</td>\n",
       "    </tr>\n",
       "    <tr>\n",
       "      <th>7</th>\n",
       "      <td>0.459</td>\n",
       "      <td>1.799</td>\n",
       "      <td>None</td>\n",
       "      <td>None</td>\n",
       "      <td>None</td>\n",
       "      <td>None</td>\n",
       "      <td>None</td>\n",
       "    </tr>\n",
       "    <tr>\n",
       "      <th>8</th>\n",
       "      <td>0.773</td>\n",
       "      <td>0.186</td>\n",
       "      <td>None</td>\n",
       "      <td>None</td>\n",
       "      <td>None</td>\n",
       "      <td>None</td>\n",
       "      <td>None</td>\n",
       "    </tr>\n",
       "  </tbody>\n",
       "</table>\n",
       "</div>"
      ],
      "text/plain": [
       "       X      Y     A     B     C cluster new_cluster\n",
       "0  1.713  1.586  None  None  None    None        None\n",
       "1  0.180  1.786  None  None  None    None        None\n",
       "2  0.353  1.240  None  None  None    None        None\n",
       "3  0.940  1.566  None  None  None    None        None\n",
       "4  1.486  0.759  None  None  None    None        None\n",
       "5  1.266  1.106  None  None  None    None        None\n",
       "6  1.540  0.419  None  None  None    None        None\n",
       "7  0.459  1.799  None  None  None    None        None\n",
       "8  0.773  0.186  None  None  None    None        None"
      ]
     },
     "execution_count": 14,
     "metadata": {},
     "output_type": "execute_result"
    }
   ],
   "source": [
    "df"
   ]
  },
  {
   "cell_type": "code",
   "execution_count": 15,
   "id": "5887d6b3",
   "metadata": {},
   "outputs": [
    {
     "data": {
      "text/html": [
       "<div>\n",
       "<style scoped>\n",
       "    .dataframe tbody tr th:only-of-type {\n",
       "        vertical-align: middle;\n",
       "    }\n",
       "\n",
       "    .dataframe tbody tr th {\n",
       "        vertical-align: top;\n",
       "    }\n",
       "\n",
       "    .dataframe thead th {\n",
       "        text-align: right;\n",
       "    }\n",
       "</style>\n",
       "<table border=\"1\" class=\"dataframe\">\n",
       "  <thead>\n",
       "    <tr style=\"text-align: right;\">\n",
       "      <th></th>\n",
       "      <th>X</th>\n",
       "      <th>Y</th>\n",
       "      <th>A</th>\n",
       "      <th>B</th>\n",
       "      <th>C</th>\n",
       "      <th>cluster</th>\n",
       "      <th>new_cluster</th>\n",
       "    </tr>\n",
       "  </thead>\n",
       "  <tbody>\n",
       "    <tr>\n",
       "      <th>0</th>\n",
       "      <td>1.713</td>\n",
       "      <td>1.586</td>\n",
       "      <td>0.85</td>\n",
       "      <td>1.23</td>\n",
       "      <td>None</td>\n",
       "      <td>1</td>\n",
       "      <td>1</td>\n",
       "    </tr>\n",
       "    <tr>\n",
       "      <th>1</th>\n",
       "      <td>0.180</td>\n",
       "      <td>1.786</td>\n",
       "      <td>1.53</td>\n",
       "      <td>0.36</td>\n",
       "      <td>None</td>\n",
       "      <td>2</td>\n",
       "      <td>2</td>\n",
       "    </tr>\n",
       "    <tr>\n",
       "      <th>2</th>\n",
       "      <td>0.353</td>\n",
       "      <td>1.240</td>\n",
       "      <td>1.09</td>\n",
       "      <td>0.38</td>\n",
       "      <td>None</td>\n",
       "      <td>2</td>\n",
       "      <td>2</td>\n",
       "    </tr>\n",
       "    <tr>\n",
       "      <th>3</th>\n",
       "      <td>0.940</td>\n",
       "      <td>1.566</td>\n",
       "      <td>0.86</td>\n",
       "      <td>0.46</td>\n",
       "      <td>None</td>\n",
       "      <td>2</td>\n",
       "      <td>2</td>\n",
       "    </tr>\n",
       "    <tr>\n",
       "      <th>4</th>\n",
       "      <td>1.486</td>\n",
       "      <td>0.759</td>\n",
       "      <td>0.14</td>\n",
       "      <td>1.31</td>\n",
       "      <td>None</td>\n",
       "      <td>1</td>\n",
       "      <td>1</td>\n",
       "    </tr>\n",
       "    <tr>\n",
       "      <th>5</th>\n",
       "      <td>1.266</td>\n",
       "      <td>1.106</td>\n",
       "      <td>0.31</td>\n",
       "      <td>0.92</td>\n",
       "      <td>None</td>\n",
       "      <td>1</td>\n",
       "      <td>1</td>\n",
       "    </tr>\n",
       "    <tr>\n",
       "      <th>6</th>\n",
       "      <td>1.540</td>\n",
       "      <td>0.419</td>\n",
       "      <td>0.43</td>\n",
       "      <td>1.58</td>\n",
       "      <td>None</td>\n",
       "      <td>1</td>\n",
       "      <td>1</td>\n",
       "    </tr>\n",
       "    <tr>\n",
       "      <th>7</th>\n",
       "      <td>0.459</td>\n",
       "      <td>1.799</td>\n",
       "      <td>1.33</td>\n",
       "      <td>0.2</td>\n",
       "      <td>None</td>\n",
       "      <td>2</td>\n",
       "      <td>2</td>\n",
       "    </tr>\n",
       "    <tr>\n",
       "      <th>8</th>\n",
       "      <td>0.773</td>\n",
       "      <td>0.186</td>\n",
       "      <td>0.85</td>\n",
       "      <td>1.44</td>\n",
       "      <td>None</td>\n",
       "      <td>1</td>\n",
       "      <td>1</td>\n",
       "    </tr>\n",
       "  </tbody>\n",
       "</table>\n",
       "</div>"
      ],
      "text/plain": [
       "       X      Y     A     B     C cluster new_cluster\n",
       "0  1.713  1.586  0.85  1.23  None       1           1\n",
       "1  0.180  1.786  1.53  0.36  None       2           2\n",
       "2  0.353  1.240  1.09  0.38  None       2           2\n",
       "3  0.940  1.566  0.86  0.46  None       2           2\n",
       "4  1.486  0.759  0.14  1.31  None       1           1\n",
       "5  1.266  1.106  0.31  0.92  None       1           1\n",
       "6  1.540  0.419  0.43  1.58  None       1           1\n",
       "7  0.459  1.799  1.33   0.2  None       2           2\n",
       "8  0.773  0.186  0.85  1.44  None       1           1"
      ]
     },
     "execution_count": 15,
     "metadata": {},
     "output_type": "execute_result"
    }
   ],
   "source": [
    "df,centroid = fun(df,len(df),len(centroid),centroid)\n",
    "df"
   ]
  },
  {
   "cell_type": "code",
   "execution_count": 16,
   "id": "f110ade6",
   "metadata": {},
   "outputs": [
    {
     "name": "stdout",
     "output_type": "stream",
     "text": [
      "[0.49421371895162924, 1.0781915704085245]\n"
     ]
    }
   ],
   "source": [
    "new_data_point = [0.906,0.606]\n",
    "dist = []\n",
    "for i in centroid:\n",
    "    temp = ((i[0]-new_data_point[0])**2+(i[1]-new_data_point[1])**2)**0.5\n",
    "    dist.append(temp)\n",
    "print(dist)"
   ]
  },
  {
   "cell_type": "code",
   "execution_count": 17,
   "id": "29747655",
   "metadata": {},
   "outputs": [
    {
     "name": "stdout",
     "output_type": "stream",
     "text": [
      "Predicted cluster group =  1\n"
     ]
    }
   ],
   "source": [
    "print(\"Predicted cluster group = \",dist.index(min(dist))+1)"
   ]
  },
  {
   "cell_type": "code",
   "execution_count": null,
   "id": "f92e0408",
   "metadata": {},
   "outputs": [],
   "source": []
  }
 ],
 "metadata": {
  "kernelspec": {
   "display_name": "Python 3 (ipykernel)",
   "language": "python",
   "name": "python3"
  },
  "language_info": {
   "codemirror_mode": {
    "name": "ipython",
    "version": 3
   },
   "file_extension": ".py",
   "mimetype": "text/x-python",
   "name": "python",
   "nbconvert_exporter": "python",
   "pygments_lexer": "ipython3",
   "version": "3.9.13"
  }
 },
 "nbformat": 4,
 "nbformat_minor": 5
}
