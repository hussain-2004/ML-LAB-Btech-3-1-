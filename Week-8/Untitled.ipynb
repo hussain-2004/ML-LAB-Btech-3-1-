{
 "cells": [
  {
   "cell_type": "markdown",
   "id": "76b8ecfb",
   "metadata": {},
   "source": [
    "question 1 "
   ]
  },
  {
   "cell_type": "code",
   "execution_count": 1,
   "id": "610a05f4",
   "metadata": {},
   "outputs": [],
   "source": [
    "# formula : P(A|B) = P(A ⋂ B)/ P(B), where P(B) ≠ 0"
   ]
  },
  {
   "cell_type": "code",
   "execution_count": 2,
   "id": "b2125ce1",
   "metadata": {},
   "outputs": [
    {
     "name": "stdout",
     "output_type": "stream",
     "text": [
      "15.0 %\n"
     ]
    }
   ],
   "source": [
    "#P(Absent|Friday) = P(Absent ^ Friday) / P(Friday)\n",
    "prob_absent_friday = 0.03\n",
    "prob_friday = 0.20\n",
    "prob_absent_given_friday = (prob_absent_friday / prob_friday)\n",
    "print(prob_absent_given_friday*100,\"%\")  # in percentage."
   ]
  },
  {
   "cell_type": "markdown",
   "id": "47f77ca8",
   "metadata": {},
   "source": [
    "2nd question."
   ]
  },
  {
   "cell_type": "code",
   "execution_count": 3,
   "id": "4c936982",
   "metadata": {},
   "outputs": [],
   "source": [
    "import pandas as pd"
   ]
  },
  {
   "cell_type": "code",
   "execution_count": 4,
   "id": "2c578f62",
   "metadata": {},
   "outputs": [],
   "source": [
    "df = pd.read_csv(\"data.csv\")"
   ]
  },
  {
   "cell_type": "code",
   "execution_count": 5,
   "id": "a953c055",
   "metadata": {},
   "outputs": [
    {
     "data": {
      "text/html": [
       "<div>\n",
       "<style scoped>\n",
       "    .dataframe tbody tr th:only-of-type {\n",
       "        vertical-align: middle;\n",
       "    }\n",
       "\n",
       "    .dataframe tbody tr th {\n",
       "        vertical-align: top;\n",
       "    }\n",
       "\n",
       "    .dataframe thead th {\n",
       "        text-align: right;\n",
       "    }\n",
       "</style>\n",
       "<table border=\"1\" class=\"dataframe\">\n",
       "  <thead>\n",
       "    <tr style=\"text-align: right;\">\n",
       "      <th></th>\n",
       "      <th>slNo</th>\n",
       "      <th>income</th>\n",
       "      <th>recreation</th>\n",
       "      <th>job</th>\n",
       "      <th>status</th>\n",
       "      <th>age-group</th>\n",
       "      <th>home-owner</th>\n",
       "      <th>classification</th>\n",
       "    </tr>\n",
       "  </thead>\n",
       "  <tbody>\n",
       "    <tr>\n",
       "      <th>0</th>\n",
       "      <td>1</td>\n",
       "      <td>medium</td>\n",
       "      <td>skiing</td>\n",
       "      <td>design</td>\n",
       "      <td>single</td>\n",
       "      <td>twenties</td>\n",
       "      <td>no</td>\n",
       "      <td>highRisk</td>\n",
       "    </tr>\n",
       "    <tr>\n",
       "      <th>1</th>\n",
       "      <td>2</td>\n",
       "      <td>high</td>\n",
       "      <td>golf</td>\n",
       "      <td>trading</td>\n",
       "      <td>married</td>\n",
       "      <td>forties</td>\n",
       "      <td>yes</td>\n",
       "      <td>lowRisk</td>\n",
       "    </tr>\n",
       "    <tr>\n",
       "      <th>2</th>\n",
       "      <td>3</td>\n",
       "      <td>low</td>\n",
       "      <td>speedway</td>\n",
       "      <td>transport</td>\n",
       "      <td>married</td>\n",
       "      <td>thirties</td>\n",
       "      <td>yes</td>\n",
       "      <td>medRisk</td>\n",
       "    </tr>\n",
       "    <tr>\n",
       "      <th>3</th>\n",
       "      <td>4</td>\n",
       "      <td>medium</td>\n",
       "      <td>football</td>\n",
       "      <td>banking</td>\n",
       "      <td>single</td>\n",
       "      <td>thirties</td>\n",
       "      <td>yes</td>\n",
       "      <td>lowRisk</td>\n",
       "    </tr>\n",
       "    <tr>\n",
       "      <th>4</th>\n",
       "      <td>5</td>\n",
       "      <td>high</td>\n",
       "      <td>flying</td>\n",
       "      <td>media</td>\n",
       "      <td>married</td>\n",
       "      <td>fifties</td>\n",
       "      <td>yes</td>\n",
       "      <td>highRisk</td>\n",
       "    </tr>\n",
       "    <tr>\n",
       "      <th>5</th>\n",
       "      <td>6</td>\n",
       "      <td>low</td>\n",
       "      <td>football</td>\n",
       "      <td>security</td>\n",
       "      <td>single</td>\n",
       "      <td>twenties</td>\n",
       "      <td>no</td>\n",
       "      <td>medRisk</td>\n",
       "    </tr>\n",
       "    <tr>\n",
       "      <th>6</th>\n",
       "      <td>7</td>\n",
       "      <td>medium</td>\n",
       "      <td>golf</td>\n",
       "      <td>media</td>\n",
       "      <td>single</td>\n",
       "      <td>thirties</td>\n",
       "      <td>yes</td>\n",
       "      <td>medRisk</td>\n",
       "    </tr>\n",
       "    <tr>\n",
       "      <th>7</th>\n",
       "      <td>8</td>\n",
       "      <td>medium</td>\n",
       "      <td>golf</td>\n",
       "      <td>transport</td>\n",
       "      <td>married</td>\n",
       "      <td>forties</td>\n",
       "      <td>yes</td>\n",
       "      <td>lowRisk</td>\n",
       "    </tr>\n",
       "    <tr>\n",
       "      <th>8</th>\n",
       "      <td>9</td>\n",
       "      <td>high</td>\n",
       "      <td>skiing</td>\n",
       "      <td>banking</td>\n",
       "      <td>single</td>\n",
       "      <td>thirties</td>\n",
       "      <td>yes</td>\n",
       "      <td>highRisk</td>\n",
       "    </tr>\n",
       "    <tr>\n",
       "      <th>9</th>\n",
       "      <td>10</td>\n",
       "      <td>low</td>\n",
       "      <td>golf</td>\n",
       "      <td>unemployed</td>\n",
       "      <td>married</td>\n",
       "      <td>forties</td>\n",
       "      <td>yes</td>\n",
       "      <td>highRisk</td>\n",
       "    </tr>\n",
       "  </tbody>\n",
       "</table>\n",
       "</div>"
      ],
      "text/plain": [
       "   slNo   income recreation          job    status  age-group home-owner  \\\n",
       "0     1  medium      skiing      design     single  twenties         no    \n",
       "1     2    high        golf     trading    married   forties        yes    \n",
       "2     3     low    speedway   transport   married   thirties        yes    \n",
       "3     4  medium    football     banking     single  thirties        yes    \n",
       "4     5    high      flying       media    married   fifties        yes    \n",
       "5     6     low    football    security     single  twenties         no    \n",
       "6     7  medium        golf       media     single  thirties        yes    \n",
       "7     8  medium        golf   transport    married   forties        yes    \n",
       "8     9    high      skiing     banking     single  thirties        yes    \n",
       "9    10     low        golf  unemployed    married   forties        yes    \n",
       "\n",
       "  classification  \n",
       "0       highRisk  \n",
       "1        lowRisk  \n",
       "2        medRisk  \n",
       "3        lowRisk  \n",
       "4       highRisk  \n",
       "5        medRisk  \n",
       "6        medRisk  \n",
       "7        lowRisk  \n",
       "8       highRisk  \n",
       "9       highRisk  "
      ]
     },
     "execution_count": 5,
     "metadata": {},
     "output_type": "execute_result"
    }
   ],
   "source": [
    "df"
   ]
  },
  {
   "cell_type": "code",
   "execution_count": 6,
   "id": "c517c44c",
   "metadata": {},
   "outputs": [
    {
     "name": "stdout",
     "output_type": "stream",
     "text": [
      "probability of golf =  0.4\n"
     ]
    }
   ],
   "source": [
    "#unconditional probability of \"golf\"\n",
    "#Unconditional probability of golf =\n",
    "#The number of records which contains 'golf' / total number of records\n",
    "total_records = len(df)\n",
    "no_golf_records = 0\n",
    "for i in df.loc[:,'recreation']:\n",
    "    if(i == \"golf\"):\n",
    "        no_golf_records += 1\n",
    "print(\"probability of golf = \",no_golf_records / total_records)"
   ]
  },
  {
   "cell_type": "code",
   "execution_count": 7,
   "id": "48453a5d",
   "metadata": {},
   "outputs": [
    {
     "name": "stdout",
     "output_type": "stream",
     "text": [
      "Probability of single given medRisk =  0.6666666666666667\n"
     ]
    }
   ],
   "source": [
    "#conditional probability of `single' given \"medRisk\"\n",
    "#P(single ∣ medRisk ) = P(single ∩ medRisk) / P(midRisk)\n",
    "no_medRisk = df['classification'].value_counts()['medRisk']\n",
    "prob_medRisk = no_medRisk / total_records\n",
    "no_single_med = 0\n",
    "for i in range(len(df)):  # iterating through each row.\n",
    "    if(df.loc[i,'status']=='single'and df.loc[i,'classification']=='medRisk'):\n",
    "        no_single_med += 1  \n",
    "prob_single_medRisk = no_single_med / total_records\n",
    "ans = prob_single_medRisk / prob_medRisk\n",
    "print(\"Probability of single given medRisk = \",ans)"
   ]
  },
  {
   "cell_type": "code",
   "execution_count": null,
   "id": "2972982f",
   "metadata": {},
   "outputs": [],
   "source": []
  }
 ],
 "metadata": {
  "kernelspec": {
   "display_name": "Python 3 (ipykernel)",
   "language": "python",
   "name": "python3"
  },
  "language_info": {
   "codemirror_mode": {
    "name": "ipython",
    "version": 3
   },
   "file_extension": ".py",
   "mimetype": "text/x-python",
   "name": "python",
   "nbconvert_exporter": "python",
   "pygments_lexer": "ipython3",
   "version": "3.9.13"
  }
 },
 "nbformat": 4,
 "nbformat_minor": 5
}
