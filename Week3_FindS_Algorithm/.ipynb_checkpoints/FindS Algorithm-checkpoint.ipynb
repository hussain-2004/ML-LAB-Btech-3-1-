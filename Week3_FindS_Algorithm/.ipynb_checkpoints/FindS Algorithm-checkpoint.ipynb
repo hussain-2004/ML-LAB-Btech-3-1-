{
 "cells": [
  {
   "cell_type": "raw",
   "id": "e3b93216",
   "metadata": {},
   "source": [
    "Hussu localhost 28-11-2023 12:04:36 IST"
   ]
  },
  {
   "cell_type": "code",
   "execution_count": 1,
   "id": "7e7c1a1c",
   "metadata": {},
   "outputs": [],
   "source": [
    "#find s- algorithm\n",
    "def findS(df):\n",
    "    a = len(df.iloc[0])\n",
    "    h = [0]*(a-2)  #most specific hypothesis.\n",
    "    for i in range(0,len(df)):\n",
    "        if(df.iloc[i,a-1] == \"Yes\"):  \n",
    "            for j in range(1,a-1):\n",
    "                if(df.iloc[i,j] == h[j-1]):\n",
    "                    continue;\n",
    "                elif(h[j-1] == 0):     \n",
    "                    h[j-1] = df.iloc[i,j]\n",
    "                else:\n",
    "                    h[j-1] = \"?\"\n",
    "    return h"
   ]
  },
  {
   "cell_type": "code",
   "execution_count": 2,
   "id": "0f0c6d17",
   "metadata": {},
   "outputs": [],
   "source": [
    "import pandas as pd"
   ]
  },
  {
   "cell_type": "markdown",
   "id": "dd3d643d",
   "metadata": {},
   "source": [
    "## 1.Enjoy Sport Data set"
   ]
  },
  {
   "cell_type": "code",
   "execution_count": 3,
   "id": "8baa2ff7",
   "metadata": {},
   "outputs": [],
   "source": [
    "df = pd.read_csv(\"watersports3.csv\")"
   ]
  },
  {
   "cell_type": "code",
   "execution_count": 4,
   "id": "5c9f1873",
   "metadata": {},
   "outputs": [
    {
     "data": {
      "text/html": [
       "<div>\n",
       "<style scoped>\n",
       "    .dataframe tbody tr th:only-of-type {\n",
       "        vertical-align: middle;\n",
       "    }\n",
       "\n",
       "    .dataframe tbody tr th {\n",
       "        vertical-align: top;\n",
       "    }\n",
       "\n",
       "    .dataframe thead th {\n",
       "        text-align: right;\n",
       "    }\n",
       "</style>\n",
       "<table border=\"1\" class=\"dataframe\">\n",
       "  <thead>\n",
       "    <tr style=\"text-align: right;\">\n",
       "      <th></th>\n",
       "      <th>Day</th>\n",
       "      <th>Sky</th>\n",
       "      <th>AirTemp</th>\n",
       "      <th>Humidity</th>\n",
       "      <th>Wind</th>\n",
       "      <th>Water</th>\n",
       "      <th>Forecast</th>\n",
       "      <th>WaterSport</th>\n",
       "    </tr>\n",
       "  </thead>\n",
       "  <tbody>\n",
       "    <tr>\n",
       "      <th>0</th>\n",
       "      <td>1</td>\n",
       "      <td>Sunny</td>\n",
       "      <td>Warm</td>\n",
       "      <td>Normal</td>\n",
       "      <td>Strong</td>\n",
       "      <td>Warm</td>\n",
       "      <td>Same</td>\n",
       "      <td>Yes</td>\n",
       "    </tr>\n",
       "    <tr>\n",
       "      <th>1</th>\n",
       "      <td>2</td>\n",
       "      <td>Sunny</td>\n",
       "      <td>Warm</td>\n",
       "      <td>High</td>\n",
       "      <td>Strong</td>\n",
       "      <td>Warm</td>\n",
       "      <td>Same</td>\n",
       "      <td>Yes</td>\n",
       "    </tr>\n",
       "    <tr>\n",
       "      <th>2</th>\n",
       "      <td>3</td>\n",
       "      <td>Rainy</td>\n",
       "      <td>Cold</td>\n",
       "      <td>High</td>\n",
       "      <td>Strong</td>\n",
       "      <td>Warm</td>\n",
       "      <td>Change</td>\n",
       "      <td>No</td>\n",
       "    </tr>\n",
       "    <tr>\n",
       "      <th>3</th>\n",
       "      <td>4</td>\n",
       "      <td>Sunny</td>\n",
       "      <td>Warm</td>\n",
       "      <td>High</td>\n",
       "      <td>Strong</td>\n",
       "      <td>Cool</td>\n",
       "      <td>Change</td>\n",
       "      <td>Yes</td>\n",
       "    </tr>\n",
       "  </tbody>\n",
       "</table>\n",
       "</div>"
      ],
      "text/plain": [
       "   Day    Sky AirTemp Humidity    Wind Water Forecast WaterSport\n",
       "0    1  Sunny    Warm   Normal  Strong  Warm     Same        Yes\n",
       "1    2  Sunny    Warm     High  Strong  Warm     Same        Yes\n",
       "2    3  Rainy    Cold     High  Strong  Warm   Change         No\n",
       "3    4  Sunny    Warm     High  Strong  Cool   Change        Yes"
      ]
     },
     "execution_count": 4,
     "metadata": {},
     "output_type": "execute_result"
    }
   ],
   "source": [
    "df"
   ]
  },
  {
   "cell_type": "code",
   "execution_count": 5,
   "id": "d72b44b4",
   "metadata": {},
   "outputs": [
    {
     "name": "stdout",
     "output_type": "stream",
     "text": [
      "['Sunny', 'Warm', '?', 'Strong', '?', '?']\n"
     ]
    }
   ],
   "source": [
    "print(findS(df))"
   ]
  },
  {
   "cell_type": "markdown",
   "id": "57570c3a",
   "metadata": {},
   "source": [
    "## 2. DigitalPaperDataSet"
   ]
  },
  {
   "cell_type": "code",
   "execution_count": 6,
   "id": "e1113403",
   "metadata": {},
   "outputs": [],
   "source": [
    "df = pd.read_csv(\"DigitalPapersData.csv\")"
   ]
  },
  {
   "cell_type": "code",
   "execution_count": 7,
   "id": "735df04b",
   "metadata": {},
   "outputs": [
    {
     "data": {
      "text/html": [
       "<div>\n",
       "<style scoped>\n",
       "    .dataframe tbody tr th:only-of-type {\n",
       "        vertical-align: middle;\n",
       "    }\n",
       "\n",
       "    .dataframe tbody tr th {\n",
       "        vertical-align: top;\n",
       "    }\n",
       "\n",
       "    .dataframe thead th {\n",
       "        text-align: right;\n",
       "    }\n",
       "</style>\n",
       "<table border=\"1\" class=\"dataframe\">\n",
       "  <thead>\n",
       "    <tr style=\"text-align: right;\">\n",
       "      <th></th>\n",
       "      <th>Example</th>\n",
       "      <th>Citations</th>\n",
       "      <th>Size</th>\n",
       "      <th>inLibrary</th>\n",
       "      <th>Price</th>\n",
       "      <th>Editions</th>\n",
       "      <th>Buy</th>\n",
       "    </tr>\n",
       "  </thead>\n",
       "  <tbody>\n",
       "    <tr>\n",
       "      <th>0</th>\n",
       "      <td>1</td>\n",
       "      <td>Some</td>\n",
       "      <td>Small</td>\n",
       "      <td>No</td>\n",
       "      <td>Affordable</td>\n",
       "      <td>Many</td>\n",
       "      <td>No</td>\n",
       "    </tr>\n",
       "    <tr>\n",
       "      <th>1</th>\n",
       "      <td>2</td>\n",
       "      <td>Many</td>\n",
       "      <td>Big</td>\n",
       "      <td>No</td>\n",
       "      <td>Expensive</td>\n",
       "      <td>One</td>\n",
       "      <td>Yes</td>\n",
       "    </tr>\n",
       "    <tr>\n",
       "      <th>2</th>\n",
       "      <td>3</td>\n",
       "      <td>Some</td>\n",
       "      <td>Big</td>\n",
       "      <td>Always</td>\n",
       "      <td>Expensive</td>\n",
       "      <td>Few</td>\n",
       "      <td>No</td>\n",
       "    </tr>\n",
       "    <tr>\n",
       "      <th>3</th>\n",
       "      <td>4</td>\n",
       "      <td>Many</td>\n",
       "      <td>Medium</td>\n",
       "      <td>No</td>\n",
       "      <td>Expensive</td>\n",
       "      <td>Many</td>\n",
       "      <td>Yes</td>\n",
       "    </tr>\n",
       "    <tr>\n",
       "      <th>4</th>\n",
       "      <td>5</td>\n",
       "      <td>Many</td>\n",
       "      <td>Small</td>\n",
       "      <td>No</td>\n",
       "      <td>Affordable</td>\n",
       "      <td>Many</td>\n",
       "      <td>Yes</td>\n",
       "    </tr>\n",
       "  </tbody>\n",
       "</table>\n",
       "</div>"
      ],
      "text/plain": [
       "   Example Citations    Size inLibrary       Price Editions  Buy\n",
       "0        1      Some   Small        No  Affordable     Many   No\n",
       "1        2      Many     Big        No   Expensive      One  Yes\n",
       "2        3      Some     Big    Always   Expensive      Few   No\n",
       "3        4      Many  Medium        No   Expensive     Many  Yes\n",
       "4        5      Many   Small        No  Affordable     Many  Yes"
      ]
     },
     "execution_count": 7,
     "metadata": {},
     "output_type": "execute_result"
    }
   ],
   "source": [
    "df"
   ]
  },
  {
   "cell_type": "code",
   "execution_count": 8,
   "id": "553019a4",
   "metadata": {},
   "outputs": [
    {
     "data": {
      "text/plain": [
       "['Many', '?', 'No', '?', '?']"
      ]
     },
     "execution_count": 8,
     "metadata": {},
     "output_type": "execute_result"
    }
   ],
   "source": [
    "l = findS(df)\n",
    "l"
   ]
  },
  {
   "cell_type": "markdown",
   "id": "1f8dc31c",
   "metadata": {},
   "source": [
    "## 3.Face Features Data Set"
   ]
  },
  {
   "cell_type": "code",
   "execution_count": 9,
   "id": "7a02a53a",
   "metadata": {},
   "outputs": [],
   "source": [
    "df = pd.read_csv(\"FaceFeatures.csv\")"
   ]
  },
  {
   "cell_type": "code",
   "execution_count": 10,
   "id": "2f7eb674",
   "metadata": {},
   "outputs": [
    {
     "data": {
      "text/html": [
       "<div>\n",
       "<style scoped>\n",
       "    .dataframe tbody tr th:only-of-type {\n",
       "        vertical-align: middle;\n",
       "    }\n",
       "\n",
       "    .dataframe tbody tr th {\n",
       "        vertical-align: top;\n",
       "    }\n",
       "\n",
       "    .dataframe thead th {\n",
       "        text-align: right;\n",
       "    }\n",
       "</style>\n",
       "<table border=\"1\" class=\"dataframe\">\n",
       "  <thead>\n",
       "    <tr style=\"text-align: right;\">\n",
       "      <th></th>\n",
       "      <th>Example</th>\n",
       "      <th>Eyes</th>\n",
       "      <th>Nose</th>\n",
       "      <th>Head</th>\n",
       "      <th>Fcolor</th>\n",
       "      <th>Smile</th>\n",
       "    </tr>\n",
       "  </thead>\n",
       "  <tbody>\n",
       "    <tr>\n",
       "      <th>0</th>\n",
       "      <td>1</td>\n",
       "      <td>Round</td>\n",
       "      <td>Triangle</td>\n",
       "      <td>Round</td>\n",
       "      <td>Purple</td>\n",
       "      <td>Yes</td>\n",
       "    </tr>\n",
       "    <tr>\n",
       "      <th>1</th>\n",
       "      <td>2</td>\n",
       "      <td>Square</td>\n",
       "      <td>Square</td>\n",
       "      <td>Square</td>\n",
       "      <td>Green</td>\n",
       "      <td>No</td>\n",
       "    </tr>\n",
       "    <tr>\n",
       "      <th>2</th>\n",
       "      <td>3</td>\n",
       "      <td>Square</td>\n",
       "      <td>Triangle</td>\n",
       "      <td>Round</td>\n",
       "      <td>Yellow</td>\n",
       "      <td>Yes</td>\n",
       "    </tr>\n",
       "    <tr>\n",
       "      <th>3</th>\n",
       "      <td>4</td>\n",
       "      <td>Round</td>\n",
       "      <td>Triangle</td>\n",
       "      <td>Round</td>\n",
       "      <td>Green</td>\n",
       "      <td>No</td>\n",
       "    </tr>\n",
       "    <tr>\n",
       "      <th>4</th>\n",
       "      <td>5</td>\n",
       "      <td>Square</td>\n",
       "      <td>Square</td>\n",
       "      <td>Round</td>\n",
       "      <td>Yellow</td>\n",
       "      <td>Yes</td>\n",
       "    </tr>\n",
       "  </tbody>\n",
       "</table>\n",
       "</div>"
      ],
      "text/plain": [
       "   Example    Eyes      Nose    Head  Fcolor Smile\n",
       "0        1   Round  Triangle   Round  Purple   Yes\n",
       "1        2  Square    Square  Square   Green    No\n",
       "2        3  Square  Triangle   Round  Yellow   Yes\n",
       "3        4   Round  Triangle   Round   Green    No\n",
       "4        5  Square    Square   Round  Yellow   Yes"
      ]
     },
     "execution_count": 10,
     "metadata": {},
     "output_type": "execute_result"
    }
   ],
   "source": [
    "df"
   ]
  },
  {
   "cell_type": "code",
   "execution_count": 11,
   "id": "68f626d8",
   "metadata": {},
   "outputs": [
    {
     "data": {
      "text/plain": [
       "['?', '?', 'Round', '?']"
      ]
     },
     "execution_count": 11,
     "metadata": {},
     "output_type": "execute_result"
    }
   ],
   "source": [
    "findS(df)"
   ]
  },
  {
   "cell_type": "code",
   "execution_count": null,
   "id": "f60efdd8",
   "metadata": {},
   "outputs": [],
   "source": []
  }
 ],
 "metadata": {
  "kernelspec": {
   "display_name": "Python 3 (ipykernel)",
   "language": "python",
   "name": "python3"
  },
  "language_info": {
   "codemirror_mode": {
    "name": "ipython",
    "version": 3
   },
   "file_extension": ".py",
   "mimetype": "text/x-python",
   "name": "python",
   "nbconvert_exporter": "python",
   "pygments_lexer": "ipython3",
   "version": "3.9.13"
  }
 },
 "nbformat": 4,
 "nbformat_minor": 5
}
