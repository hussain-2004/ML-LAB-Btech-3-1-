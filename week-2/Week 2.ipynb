{
 "cells": [
  {
   "cell_type": "raw",
   "id": "8fd089a5",
   "metadata": {},
   "source": [
    "1.Consider a dataset with the following information:\n",
    "\n",
    "Weather\t           Temperature\t           Play Tennis\n",
    "Sunny\t             Hot\t                  No\n",
    "Overcast\t         Hot\t                  Yes\n",
    "Rainy\t             Cool\t                  Yes\n",
    "Sunny\t             Mild\t                  Yes\n",
    "Rainy\t             Hot\t                  No\n",
    "Overcast\t         Cool\t                  No\n",
    "Sunny\t             Mild\t                  No\n",
    "\n",
    "Given a new instance with weather as \"Overcast\" and temperature as \"Mild,\" predict whether tennis will be played or not?"
   ]
  },
  {
   "cell_type": "code",
   "execution_count": 1,
   "id": "efdab280",
   "metadata": {},
   "outputs": [],
   "source": [
    "import pandas as pd"
   ]
  },
  {
   "cell_type": "code",
   "execution_count": 2,
   "id": "10246aea",
   "metadata": {},
   "outputs": [],
   "source": [
    "data = {\n",
    "    'Weather': ['Sunny', 'Overcast', 'Rainy', 'Sunny', 'Rainy', 'Overcast', 'Sunny'],\n",
    "    'Temperature': ['Hot', 'Hot', 'Cool', 'Mild', 'Hot', 'Cool', 'Mild'],\n",
    "    'Play Tennis': ['No', 'Yes', 'Yes', 'Yes', 'No', 'No', 'No']\n",
    "}"
   ]
  },
  {
   "cell_type": "code",
   "execution_count": 3,
   "id": "6177cb3f",
   "metadata": {},
   "outputs": [],
   "source": [
    "df = pd.DataFrame(data)"
   ]
  },
  {
   "cell_type": "code",
   "execution_count": 4,
   "id": "0880dd24",
   "metadata": {},
   "outputs": [
    {
     "data": {
      "text/html": [
       "<div>\n",
       "<style scoped>\n",
       "    .dataframe tbody tr th:only-of-type {\n",
       "        vertical-align: middle;\n",
       "    }\n",
       "\n",
       "    .dataframe tbody tr th {\n",
       "        vertical-align: top;\n",
       "    }\n",
       "\n",
       "    .dataframe thead th {\n",
       "        text-align: right;\n",
       "    }\n",
       "</style>\n",
       "<table border=\"1\" class=\"dataframe\">\n",
       "  <thead>\n",
       "    <tr style=\"text-align: right;\">\n",
       "      <th></th>\n",
       "      <th>Weather</th>\n",
       "      <th>Temperature</th>\n",
       "      <th>Play Tennis</th>\n",
       "    </tr>\n",
       "  </thead>\n",
       "  <tbody>\n",
       "    <tr>\n",
       "      <th>0</th>\n",
       "      <td>Sunny</td>\n",
       "      <td>Hot</td>\n",
       "      <td>No</td>\n",
       "    </tr>\n",
       "    <tr>\n",
       "      <th>1</th>\n",
       "      <td>Overcast</td>\n",
       "      <td>Hot</td>\n",
       "      <td>Yes</td>\n",
       "    </tr>\n",
       "    <tr>\n",
       "      <th>2</th>\n",
       "      <td>Rainy</td>\n",
       "      <td>Cool</td>\n",
       "      <td>Yes</td>\n",
       "    </tr>\n",
       "    <tr>\n",
       "      <th>3</th>\n",
       "      <td>Sunny</td>\n",
       "      <td>Mild</td>\n",
       "      <td>Yes</td>\n",
       "    </tr>\n",
       "    <tr>\n",
       "      <th>4</th>\n",
       "      <td>Rainy</td>\n",
       "      <td>Hot</td>\n",
       "      <td>No</td>\n",
       "    </tr>\n",
       "    <tr>\n",
       "      <th>5</th>\n",
       "      <td>Overcast</td>\n",
       "      <td>Cool</td>\n",
       "      <td>No</td>\n",
       "    </tr>\n",
       "    <tr>\n",
       "      <th>6</th>\n",
       "      <td>Sunny</td>\n",
       "      <td>Mild</td>\n",
       "      <td>No</td>\n",
       "    </tr>\n",
       "  </tbody>\n",
       "</table>\n",
       "</div>"
      ],
      "text/plain": [
       "    Weather Temperature Play Tennis\n",
       "0     Sunny         Hot          No\n",
       "1  Overcast         Hot         Yes\n",
       "2     Rainy        Cool         Yes\n",
       "3     Sunny        Mild         Yes\n",
       "4     Rainy         Hot          No\n",
       "5  Overcast        Cool          No\n",
       "6     Sunny        Mild          No"
      ]
     },
     "execution_count": 4,
     "metadata": {},
     "output_type": "execute_result"
    }
   ],
   "source": [
    "df"
   ]
  },
  {
   "cell_type": "code",
   "execution_count": 5,
   "id": "1b7c20f8",
   "metadata": {},
   "outputs": [],
   "source": [
    "#counting number of \"yes\"s and \"no\"s\n",
    "yesCount = df[\"Play Tennis\"].value_counts()[\"Yes\"]\n",
    "noCount = df[\"Play Tennis\"].value_counts()[\"No\"]\n",
    "total = yesCount + noCount"
   ]
  },
  {
   "cell_type": "code",
   "execution_count": 6,
   "id": "81024e5f",
   "metadata": {},
   "outputs": [],
   "source": [
    "#probability of yes and no.\n",
    "pYes = yesCount/total\n",
    "pNo = noCount/total"
   ]
  },
  {
   "cell_type": "code",
   "execution_count": 7,
   "id": "b8678be6",
   "metadata": {},
   "outputs": [],
   "source": [
    "#probability of  Overcast|Yes and Overcast|No\n",
    "overcastYesCount = 0\n",
    "overcastNoCount = 0\n",
    "for i in range(len(df)):\n",
    "    if(df[\"Weather\"][i] == \"Overcast\" and df[\"Play Tennis\"][i] == \"Yes\"):\n",
    "        overcastYesCount += 1\n",
    "    elif (df[\"Weather\"][i] == \"Overcast\" and df[\"Play Tennis\"][i] == \"No\"):\n",
    "        overcastNoCount += 1\n",
    "pOvercastYes = overcastYesCount / yesCount\n",
    "pOvercastNo = overcastNoCount / noCount"
   ]
  },
  {
   "cell_type": "code",
   "execution_count": 8,
   "id": "c6783361",
   "metadata": {},
   "outputs": [],
   "source": [
    "#probability of  Mild|Yes and Mild|No\n",
    "MildYesCount = 0\n",
    "MildNoCount = 0\n",
    "for i in range(len(df)):\n",
    "    if(df[\"Temperature\"][i] == \"Mild\" and df[\"Play Tennis\"][i] == \"Yes\"):\n",
    "        MildYesCount += 1\n",
    "    elif (df[\"Temperature\"][i] == \"Mild\" and df[\"Play Tennis\"][i] == \"No\"):\n",
    "        MildNoCount += 1\n",
    "pMildYes = MildYesCount / yesCount\n",
    "pMildNo = MildNoCount / noCount"
   ]
  },
  {
   "cell_type": "code",
   "execution_count": 9,
   "id": "839ada94",
   "metadata": {},
   "outputs": [],
   "source": [
    "probYes = pOvercastYes*pMildYes*pYes\n",
    "probNo = pOvercastNo*pMildNo*pNo"
   ]
  },
  {
   "cell_type": "code",
   "execution_count": 10,
   "id": "2a78e76c",
   "metadata": {},
   "outputs": [
    {
     "name": "stdout",
     "output_type": "stream",
     "text": [
      "0.047619047619047616 0.03571428571428571\n"
     ]
    }
   ],
   "source": [
    "print(probYes,probNo)"
   ]
  },
  {
   "cell_type": "code",
   "execution_count": 11,
   "id": "639920b6",
   "metadata": {},
   "outputs": [],
   "source": [
    "def normalize(py,pn):\n",
    "    temp = py/(py+pn)\n",
    "    return [temp,1-temp]"
   ]
  },
  {
   "cell_type": "code",
   "execution_count": 12,
   "id": "6b0fefdd",
   "metadata": {},
   "outputs": [],
   "source": [
    "#normalizing the probability\n",
    "probYes,probNo = normalize(probYes,probNo)"
   ]
  },
  {
   "cell_type": "code",
   "execution_count": 13,
   "id": "c7a29e11",
   "metadata": {},
   "outputs": [
    {
     "name": "stdout",
     "output_type": "stream",
     "text": [
      "0.5714285714285714 0.4285714285714286\n"
     ]
    }
   ],
   "source": [
    "print(probYes,probNo)"
   ]
  },
  {
   "cell_type": "code",
   "execution_count": 14,
   "id": "5a63ec4b",
   "metadata": {},
   "outputs": [
    {
     "name": "stdout",
     "output_type": "stream",
     "text": [
      "Tennis will be played!\n"
     ]
    }
   ],
   "source": [
    "if(probYes > probNo):\n",
    "    print(\"Tennis will be played!\")\n",
    "else:\n",
    "    print(\"Tennis will not be played!\")"
   ]
  },
  {
   "cell_type": "raw",
   "id": "c6cd7797",
   "metadata": {},
   "source": [
    "2.Given the following dataset, check whether the combination of cars like (Red,SUV,Domestic) and (Yellow,Sports,Imported) are stolen or not?\n",
    "\n",
    "Number\t       Color\t   Type\t     Origin\t          Stolen\n",
    "1\t            Red\t       Sports\t   Domestic\t       Yes\n",
    "2\t            Red\t       Sports\t   Domestic\t       No\n",
    "3\t            Red\t       Sports\t   Domestic\t       Yes\n",
    "4\t            Yellow\t   Sports\t   Domestic\t       No\n",
    "5\t            Yellow\t   Sports\t   Domestic\t       Yes\n",
    "6\t            Yellow\t   SUV\t       Imported\t       No\n",
    "7\t            Yellow\t   SUV\t       Imported\t       Yes\n",
    "8\t            Yellow\t   SUV\t       Domestic\t       No\n",
    "9\t            Red\t       SUV\t       Imported\t       No\n",
    "10\t            Red\t       Sports\t   Imported\t       Yes"
   ]
  },
  {
   "cell_type": "code",
   "execution_count": 15,
   "id": "d6824012",
   "metadata": {},
   "outputs": [],
   "source": [
    "data = {\n",
    "    \"Number\": [1,2,3,4,5,6,7,8,9,10],\n",
    "    \"Color\": [\"Red\", \"Red\", \"Red\", \"Yellow\", \"Yellow\", \"Yellow\", \"Yellow\",\"Yellow\",\"Red\",\"Red\"],\n",
    "    \"Type\": [\"Sports\", \"Sports\", \"Sports\", \"Sports\", \"Sports\", \"SUV\", \"SUV\",\"SUV\",\"SUV\",\"Sports\"],\n",
    "    \"Origin\": [\"Domestic\", \"Domestic\", \"Domestic\", \"Domestic\", \"Domestic\", \"Imported\", \"Imported\",\"Domestic\",\"Imported\",\"Imported\"],\n",
    "    \"Stolen\": [\"Yes\", \"No\", \"Yes\", \"No\", \"Yes\", \"No\", \"Yes\",\"No\",\"No\",\"Yes\"]\n",
    "}"
   ]
  },
  {
   "cell_type": "code",
   "execution_count": 16,
   "id": "7a9b0cc6",
   "metadata": {},
   "outputs": [],
   "source": [
    "df = pd.DataFrame(data)"
   ]
  },
  {
   "cell_type": "code",
   "execution_count": 17,
   "id": "88a77b39",
   "metadata": {},
   "outputs": [
    {
     "data": {
      "text/html": [
       "<div>\n",
       "<style scoped>\n",
       "    .dataframe tbody tr th:only-of-type {\n",
       "        vertical-align: middle;\n",
       "    }\n",
       "\n",
       "    .dataframe tbody tr th {\n",
       "        vertical-align: top;\n",
       "    }\n",
       "\n",
       "    .dataframe thead th {\n",
       "        text-align: right;\n",
       "    }\n",
       "</style>\n",
       "<table border=\"1\" class=\"dataframe\">\n",
       "  <thead>\n",
       "    <tr style=\"text-align: right;\">\n",
       "      <th></th>\n",
       "      <th>Number</th>\n",
       "      <th>Color</th>\n",
       "      <th>Type</th>\n",
       "      <th>Origin</th>\n",
       "      <th>Stolen</th>\n",
       "    </tr>\n",
       "  </thead>\n",
       "  <tbody>\n",
       "    <tr>\n",
       "      <th>0</th>\n",
       "      <td>1</td>\n",
       "      <td>Red</td>\n",
       "      <td>Sports</td>\n",
       "      <td>Domestic</td>\n",
       "      <td>Yes</td>\n",
       "    </tr>\n",
       "    <tr>\n",
       "      <th>1</th>\n",
       "      <td>2</td>\n",
       "      <td>Red</td>\n",
       "      <td>Sports</td>\n",
       "      <td>Domestic</td>\n",
       "      <td>No</td>\n",
       "    </tr>\n",
       "    <tr>\n",
       "      <th>2</th>\n",
       "      <td>3</td>\n",
       "      <td>Red</td>\n",
       "      <td>Sports</td>\n",
       "      <td>Domestic</td>\n",
       "      <td>Yes</td>\n",
       "    </tr>\n",
       "    <tr>\n",
       "      <th>3</th>\n",
       "      <td>4</td>\n",
       "      <td>Yellow</td>\n",
       "      <td>Sports</td>\n",
       "      <td>Domestic</td>\n",
       "      <td>No</td>\n",
       "    </tr>\n",
       "    <tr>\n",
       "      <th>4</th>\n",
       "      <td>5</td>\n",
       "      <td>Yellow</td>\n",
       "      <td>Sports</td>\n",
       "      <td>Domestic</td>\n",
       "      <td>Yes</td>\n",
       "    </tr>\n",
       "    <tr>\n",
       "      <th>5</th>\n",
       "      <td>6</td>\n",
       "      <td>Yellow</td>\n",
       "      <td>SUV</td>\n",
       "      <td>Imported</td>\n",
       "      <td>No</td>\n",
       "    </tr>\n",
       "    <tr>\n",
       "      <th>6</th>\n",
       "      <td>7</td>\n",
       "      <td>Yellow</td>\n",
       "      <td>SUV</td>\n",
       "      <td>Imported</td>\n",
       "      <td>Yes</td>\n",
       "    </tr>\n",
       "    <tr>\n",
       "      <th>7</th>\n",
       "      <td>8</td>\n",
       "      <td>Yellow</td>\n",
       "      <td>SUV</td>\n",
       "      <td>Domestic</td>\n",
       "      <td>No</td>\n",
       "    </tr>\n",
       "    <tr>\n",
       "      <th>8</th>\n",
       "      <td>9</td>\n",
       "      <td>Red</td>\n",
       "      <td>SUV</td>\n",
       "      <td>Imported</td>\n",
       "      <td>No</td>\n",
       "    </tr>\n",
       "    <tr>\n",
       "      <th>9</th>\n",
       "      <td>10</td>\n",
       "      <td>Red</td>\n",
       "      <td>Sports</td>\n",
       "      <td>Imported</td>\n",
       "      <td>Yes</td>\n",
       "    </tr>\n",
       "  </tbody>\n",
       "</table>\n",
       "</div>"
      ],
      "text/plain": [
       "   Number   Color    Type    Origin Stolen\n",
       "0       1     Red  Sports  Domestic    Yes\n",
       "1       2     Red  Sports  Domestic     No\n",
       "2       3     Red  Sports  Domestic    Yes\n",
       "3       4  Yellow  Sports  Domestic     No\n",
       "4       5  Yellow  Sports  Domestic    Yes\n",
       "5       6  Yellow     SUV  Imported     No\n",
       "6       7  Yellow     SUV  Imported    Yes\n",
       "7       8  Yellow     SUV  Domestic     No\n",
       "8       9     Red     SUV  Imported     No\n",
       "9      10     Red  Sports  Imported    Yes"
      ]
     },
     "execution_count": 17,
     "metadata": {},
     "output_type": "execute_result"
    }
   ],
   "source": [
    "df"
   ]
  },
  {
   "cell_type": "code",
   "execution_count": 18,
   "id": "d0c3ed07",
   "metadata": {},
   "outputs": [],
   "source": [
    "#counting number of \"yes\"s and \"no\"s\n",
    "yesCount = df[\"Stolen\"].value_counts()[\"Yes\"]\n",
    "noCount = df[\"Stolen\"].value_counts()[\"No\"]\n",
    "total = yesCount + noCount"
   ]
  },
  {
   "cell_type": "code",
   "execution_count": 19,
   "id": "50eb7893",
   "metadata": {},
   "outputs": [],
   "source": [
    "#probability of yes and no.\n",
    "prYes = yesCount/total\n",
    "prNo = noCount/total"
   ]
  },
  {
   "cell_type": "code",
   "execution_count": 20,
   "id": "2d373eb1",
   "metadata": {},
   "outputs": [],
   "source": [
    "def yesNoCount(colName,colValue):\n",
    "    yesCount = 0\n",
    "    noCount = 0\n",
    "    for i in range(len(df)):\n",
    "        if((df[colName][i] == colValue) and (df[\"Stolen\"][i] == \"Yes\")):\n",
    "            yesCount += 1\n",
    "        elif (df[colName][i] == colValue and df[\"Stolen\"][i] == \"No\"):\n",
    "            noCount += 1\n",
    "    return [yesCount,noCount]"
   ]
  },
  {
   "cell_type": "code",
   "execution_count": 21,
   "id": "e64c0335",
   "metadata": {},
   "outputs": [],
   "source": [
    "def probYesNo(c,t,o):\n",
    "    probYes = 1\n",
    "    probNo = 1\n",
    "    yCount,nCount = yesNoCount(\"Color\",c)\n",
    "    pYes = yCount / yesCount\n",
    "    pNo = nCount / noCount\n",
    "    probYes *= pYes\n",
    "    probNo *= pNo\n",
    "    \n",
    "    yCount,nCount = yesNoCount(\"Type\",t)\n",
    "    pYes = yCount / yesCount\n",
    "    pNo = nCount / noCount\n",
    "    probYes *= pYes\n",
    "    probNo *= pNo\n",
    "    \n",
    "    yCount,nCount = yesNoCount(\"Origin\",o)\n",
    "    pYes = yCount / yesCount\n",
    "    pNo = nCount / noCount\n",
    "    probYes *= pYes\n",
    "    probNo *= pNo\n",
    "    \n",
    "    probYes *= prYes\n",
    "    probNo *= prNo\n",
    "    if(probYes > probNo):\n",
    "        return True\n",
    "    else:\n",
    "        return False"
   ]
  },
  {
   "cell_type": "code",
   "execution_count": 22,
   "id": "7da18e45",
   "metadata": {},
   "outputs": [
    {
     "name": "stdout",
     "output_type": "stream",
     "text": [
      "Red Suv Domestic car is not stolen\n"
     ]
    }
   ],
   "source": [
    "# combination of cars like (Red,SUV,Domestic)\n",
    "if(probYesNo(\"Red\",\"SUV\",\"Domestic\")):\n",
    "    print(\"Red Suv Domestic car is stolen\")\n",
    "else:\n",
    "    print(\"Red Suv Domestic car is not stolen\")"
   ]
  },
  {
   "cell_type": "code",
   "execution_count": 23,
   "id": "91939519",
   "metadata": {},
   "outputs": [
    {
     "name": "stdout",
     "output_type": "stream",
     "text": [
      "Yellow Sports Imported car is stolen\n"
     ]
    }
   ],
   "source": [
    "# combination of cars like (Yellow,Sports,Imported)\n",
    "if(probYesNo(\"Yellow\",\"Sports\",\"Imported\")):\n",
    "    print(\"Yellow Sports Imported car is stolen\")\n",
    "else:\n",
    "    print(\"Yellow Sports Imported car is not stolen\")"
   ]
  },
  {
   "cell_type": "raw",
   "id": "60c8e685",
   "metadata": {},
   "source": [
    "3.Given the following dataset, what would be the value of Y for A=0 ,B=0, C=1?\n",
    "\n",
    "A\tB\tC\tY\n",
    "0\t0\t1\t0\n",
    "0\t1\t0\t0\n",
    "1\t1\t0\t0\n",
    "0\t0\t1\t1\n",
    "1\t1\t1\t1\n",
    "1\t0\t0\t1\n",
    "1\t1\t0\t1"
   ]
  },
  {
   "cell_type": "code",
   "execution_count": null,
   "id": "6fc4356c",
   "metadata": {},
   "outputs": [],
   "source": []
  },
  {
   "cell_type": "code",
   "execution_count": 24,
   "id": "f8cb9a35",
   "metadata": {},
   "outputs": [],
   "source": [
    "data = {\n",
    "    \"A\" : [0,0,1,0,1,1,1],\n",
    "    \"B\" : [0,1,1,0,1,0,1],\n",
    "    \"C\" : [1,0,0,1,1,0,0],\n",
    "    \"Y\" : [0,0,0,1,1,1,1]\n",
    "}"
   ]
  },
  {
   "cell_type": "code",
   "execution_count": 25,
   "id": "adf11b94",
   "metadata": {},
   "outputs": [],
   "source": [
    "df = pd.DataFrame(data)"
   ]
  },
  {
   "cell_type": "code",
   "execution_count": 26,
   "id": "018ee850",
   "metadata": {},
   "outputs": [
    {
     "data": {
      "text/html": [
       "<div>\n",
       "<style scoped>\n",
       "    .dataframe tbody tr th:only-of-type {\n",
       "        vertical-align: middle;\n",
       "    }\n",
       "\n",
       "    .dataframe tbody tr th {\n",
       "        vertical-align: top;\n",
       "    }\n",
       "\n",
       "    .dataframe thead th {\n",
       "        text-align: right;\n",
       "    }\n",
       "</style>\n",
       "<table border=\"1\" class=\"dataframe\">\n",
       "  <thead>\n",
       "    <tr style=\"text-align: right;\">\n",
       "      <th></th>\n",
       "      <th>A</th>\n",
       "      <th>B</th>\n",
       "      <th>C</th>\n",
       "      <th>Y</th>\n",
       "    </tr>\n",
       "  </thead>\n",
       "  <tbody>\n",
       "    <tr>\n",
       "      <th>0</th>\n",
       "      <td>0</td>\n",
       "      <td>0</td>\n",
       "      <td>1</td>\n",
       "      <td>0</td>\n",
       "    </tr>\n",
       "    <tr>\n",
       "      <th>1</th>\n",
       "      <td>0</td>\n",
       "      <td>1</td>\n",
       "      <td>0</td>\n",
       "      <td>0</td>\n",
       "    </tr>\n",
       "    <tr>\n",
       "      <th>2</th>\n",
       "      <td>1</td>\n",
       "      <td>1</td>\n",
       "      <td>0</td>\n",
       "      <td>0</td>\n",
       "    </tr>\n",
       "    <tr>\n",
       "      <th>3</th>\n",
       "      <td>0</td>\n",
       "      <td>0</td>\n",
       "      <td>1</td>\n",
       "      <td>1</td>\n",
       "    </tr>\n",
       "    <tr>\n",
       "      <th>4</th>\n",
       "      <td>1</td>\n",
       "      <td>1</td>\n",
       "      <td>1</td>\n",
       "      <td>1</td>\n",
       "    </tr>\n",
       "    <tr>\n",
       "      <th>5</th>\n",
       "      <td>1</td>\n",
       "      <td>0</td>\n",
       "      <td>0</td>\n",
       "      <td>1</td>\n",
       "    </tr>\n",
       "    <tr>\n",
       "      <th>6</th>\n",
       "      <td>1</td>\n",
       "      <td>1</td>\n",
       "      <td>0</td>\n",
       "      <td>1</td>\n",
       "    </tr>\n",
       "  </tbody>\n",
       "</table>\n",
       "</div>"
      ],
      "text/plain": [
       "   A  B  C  Y\n",
       "0  0  0  1  0\n",
       "1  0  1  0  0\n",
       "2  1  1  0  0\n",
       "3  0  0  1  1\n",
       "4  1  1  1  1\n",
       "5  1  0  0  1\n",
       "6  1  1  0  1"
      ]
     },
     "execution_count": 26,
     "metadata": {},
     "output_type": "execute_result"
    }
   ],
   "source": [
    "df"
   ]
  },
  {
   "cell_type": "code",
   "execution_count": 27,
   "id": "1e76cf5c",
   "metadata": {},
   "outputs": [],
   "source": [
    "#counting number of \"0\"s and \"1\"s\n",
    "oneCount = df[\"Y\"].value_counts()[1]\n",
    "zeroCount = df[\"Y\"].value_counts()[0]\n",
    "total = oneCount + zeroCount"
   ]
  },
  {
   "cell_type": "code",
   "execution_count": 28,
   "id": "fbaed036",
   "metadata": {},
   "outputs": [],
   "source": [
    "#probability of 0 and 1.\n",
    "prOne = oneCount/total\n",
    "prZero = zeroCount/total"
   ]
  },
  {
   "cell_type": "code",
   "execution_count": 29,
   "id": "022daffb",
   "metadata": {},
   "outputs": [],
   "source": [
    "def oneZeroCount(colName,colValue):\n",
    "    oneCount = 0\n",
    "    zeroCount = 0\n",
    "    for i in range(len(df)):\n",
    "        if((df[colName][i] == colValue) and (df[\"Y\"][i] == 1)):\n",
    "            oneCount += 1\n",
    "        elif (df[colName][i] == colValue and df[\"Y\"][i] == 0):\n",
    "            zeroCount += 1\n",
    "    return [oneCount,zeroCount]"
   ]
  },
  {
   "cell_type": "code",
   "execution_count": 30,
   "id": "abc20dbc",
   "metadata": {},
   "outputs": [],
   "source": [
    "def probYesNo(a,b,c):\n",
    "    probOne = 1\n",
    "    probZero = 1\n",
    "    oCount,zCount = oneZeroCount(\"A\",a)\n",
    "    pOne = oCount / oneCount\n",
    "    pZero = zCount / zeroCount\n",
    "    probOne *= pOne\n",
    "    probZero *= pZero\n",
    "    \n",
    "    oCount,zCount = oneZeroCount(\"B\",b)\n",
    "    pOne = oCount / oneCount\n",
    "    pZero = zCount / zeroCount\n",
    "    probOne *= pOne\n",
    "    probZero *= pZero\n",
    "    \n",
    "    oCount,zCount = oneZeroCount(\"C\",c)\n",
    "    pOne = oCount / oneCount\n",
    "    pZero = zCount / zeroCount\n",
    "    probOne *= pOne\n",
    "    probZero *= pZero\n",
    "    \n",
    "    probOne *= prOne\n",
    "    probZero *= prZero\n",
    "    probOne,probZero = normalize(probOne,probZero)\n",
    "    if(probOne > probZero):\n",
    "        return 1\n",
    "    else:\n",
    "        return 0"
   ]
  },
  {
   "cell_type": "code",
   "execution_count": 31,
   "id": "59ba7a0a",
   "metadata": {},
   "outputs": [
    {
     "name": "stdout",
     "output_type": "stream",
     "text": [
      "1\n"
     ]
    }
   ],
   "source": [
    "# value of Y for A=0 ,B=0, C=1?\n",
    "print(probYesNo(1,1,0))"
   ]
  },
  {
   "cell_type": "code",
   "execution_count": 32,
   "id": "9d318f7a",
   "metadata": {},
   "outputs": [
    {
     "name": "stdout",
     "output_type": "stream",
     "text": [
      "1\n"
     ]
    }
   ],
   "source": [
    "print(probYesNo(1,1,0))"
   ]
  },
  {
   "cell_type": "code",
   "execution_count": null,
   "id": "05b5bff4",
   "metadata": {},
   "outputs": [],
   "source": []
  }
 ],
 "metadata": {
  "kernelspec": {
   "display_name": "Python 3 (ipykernel)",
   "language": "python",
   "name": "python3"
  },
  "language_info": {
   "codemirror_mode": {
    "name": "ipython",
    "version": 3
   },
   "file_extension": ".py",
   "mimetype": "text/x-python",
   "name": "python",
   "nbconvert_exporter": "python",
   "pygments_lexer": "ipython3",
   "version": "3.9.13"
  }
 },
 "nbformat": 4,
 "nbformat_minor": 5
}
