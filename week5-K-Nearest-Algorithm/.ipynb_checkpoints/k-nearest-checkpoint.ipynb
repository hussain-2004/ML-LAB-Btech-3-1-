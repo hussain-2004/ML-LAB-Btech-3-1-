{
 "cells": [
  {
   "cell_type": "code",
   "execution_count": 1,
   "id": "5f9d0880",
   "metadata": {},
   "outputs": [],
   "source": [
    "import pandas as pd"
   ]
  },
  {
   "cell_type": "code",
   "execution_count": 2,
   "id": "5bcec3ac",
   "metadata": {},
   "outputs": [],
   "source": [
    "df = pd.read_csv(\"Book1.csv\")"
   ]
  },
  {
   "cell_type": "code",
   "execution_count": 3,
   "id": "b43af7ef",
   "metadata": {},
   "outputs": [],
   "source": [
    "q = [6,157,54,None]"
   ]
  },
  {
   "cell_type": "code",
   "execution_count": 4,
   "id": "57b1ec0d",
   "metadata": {},
   "outputs": [],
   "source": [
    "df.insert(3,\"Distance\", [None]*(len(df)), True)"
   ]
  },
  {
   "cell_type": "code",
   "execution_count": 5,
   "id": "cd1744a9",
   "metadata": {},
   "outputs": [],
   "source": [
    "for i in range(len(df)):\n",
    "    d = 0\n",
    "    for j in range(1,len(df.columns)-2):\n",
    "        diff = (df.iloc[i,j]) - q[j]\n",
    "        d = d + (diff*diff)\n",
    "    d = d**0.5 #square root\n",
    "    df.iloc[i,3] = d"
   ]
  },
  {
   "cell_type": "code",
   "execution_count": 6,
   "id": "c27ff12c",
   "metadata": {},
   "outputs": [
    {
     "data": {
      "text/html": [
       "<div>\n",
       "<style scoped>\n",
       "    .dataframe tbody tr th:only-of-type {\n",
       "        vertical-align: middle;\n",
       "    }\n",
       "\n",
       "    .dataframe tbody tr th {\n",
       "        vertical-align: top;\n",
       "    }\n",
       "\n",
       "    .dataframe thead th {\n",
       "        text-align: right;\n",
       "    }\n",
       "</style>\n",
       "<table border=\"1\" class=\"dataframe\">\n",
       "  <thead>\n",
       "    <tr style=\"text-align: right;\">\n",
       "      <th></th>\n",
       "      <th>SlNo</th>\n",
       "      <th>Height</th>\n",
       "      <th>Weight</th>\n",
       "      <th>Distance</th>\n",
       "      <th>Target</th>\n",
       "    </tr>\n",
       "  </thead>\n",
       "  <tbody>\n",
       "    <tr>\n",
       "      <th>0</th>\n",
       "      <td>1</td>\n",
       "      <td>150</td>\n",
       "      <td>50</td>\n",
       "      <td>8.062258</td>\n",
       "      <td>Medium</td>\n",
       "    </tr>\n",
       "    <tr>\n",
       "      <th>1</th>\n",
       "      <td>2</td>\n",
       "      <td>155</td>\n",
       "      <td>55</td>\n",
       "      <td>2.236068</td>\n",
       "      <td>Medium</td>\n",
       "    </tr>\n",
       "    <tr>\n",
       "      <th>2</th>\n",
       "      <td>3</td>\n",
       "      <td>160</td>\n",
       "      <td>60</td>\n",
       "      <td>6.708204</td>\n",
       "      <td>Large</td>\n",
       "    </tr>\n",
       "    <tr>\n",
       "      <th>3</th>\n",
       "      <td>4</td>\n",
       "      <td>161</td>\n",
       "      <td>59</td>\n",
       "      <td>6.403124</td>\n",
       "      <td>Large</td>\n",
       "    </tr>\n",
       "    <tr>\n",
       "      <th>4</th>\n",
       "      <td>5</td>\n",
       "      <td>158</td>\n",
       "      <td>65</td>\n",
       "      <td>11.045361</td>\n",
       "      <td>Large</td>\n",
       "    </tr>\n",
       "  </tbody>\n",
       "</table>\n",
       "</div>"
      ],
      "text/plain": [
       "   SlNo  Height  Weight   Distance  Target\n",
       "0     1     150      50   8.062258  Medium\n",
       "1     2     155      55   2.236068  Medium\n",
       "2     3     160      60   6.708204   Large\n",
       "3     4     161      59   6.403124   Large\n",
       "4     5     158      65  11.045361   Large"
      ]
     },
     "execution_count": 6,
     "metadata": {},
     "output_type": "execute_result"
    }
   ],
   "source": [
    "df"
   ]
  },
  {
   "cell_type": "code",
   "execution_count": 7,
   "id": "e38bd04f",
   "metadata": {},
   "outputs": [],
   "source": [
    "df=df.sort_values(by = ['Distance'])"
   ]
  },
  {
   "cell_type": "code",
   "execution_count": 8,
   "id": "3a1902a1",
   "metadata": {},
   "outputs": [
    {
     "data": {
      "text/plain": [
       "array(['Medium', 'Large'], dtype=object)"
      ]
     },
     "execution_count": 8,
     "metadata": {},
     "output_type": "execute_result"
    }
   ],
   "source": [
    "#let k = 3\n",
    "k = 3\n",
    "target_values = df['Target'].unique()\n",
    "target_values"
   ]
  },
  {
   "cell_type": "code",
   "execution_count": 9,
   "id": "df2f2522",
   "metadata": {},
   "outputs": [],
   "source": [
    "ans = \"\"\n",
    "maxValue = -1\n",
    "for i in target_values:\n",
    "    val = 0\n",
    "    for j in df.iloc[0:k,4]:\n",
    "        if(i == j):\n",
    "            val += 1\n",
    "    if(val>maxValue):\n",
    "        maxValue = val\n",
    "        ans = i"
   ]
  },
  {
   "cell_type": "code",
   "execution_count": 10,
   "id": "0ec49f80",
   "metadata": {},
   "outputs": [
    {
     "name": "stdout",
     "output_type": "stream",
     "text": [
      "target classification :  Large\n"
     ]
    }
   ],
   "source": [
    "print(\"target classification : \",ans)"
   ]
  },
  {
   "cell_type": "code",
   "execution_count": null,
   "id": "d79b48bc",
   "metadata": {},
   "outputs": [],
   "source": [
    "#second question."
   ]
  },
  {
   "cell_type": "code",
   "execution_count": 11,
   "id": "5fbd0644",
   "metadata": {},
   "outputs": [],
   "source": [
    "df = pd.read_csv(\"Book2.csv\")"
   ]
  },
  {
   "cell_type": "code",
   "execution_count": 12,
   "id": "4adc4a5f",
   "metadata": {},
   "outputs": [],
   "source": [
    "q = [5.2,3.1]"
   ]
  },
  {
   "cell_type": "code",
   "execution_count": 13,
   "id": "942e802c",
   "metadata": {},
   "outputs": [],
   "source": [
    "df.insert(2,\"Distance\", [None]*(len(df)), True)"
   ]
  },
  {
   "cell_type": "code",
   "execution_count": 14,
   "id": "cc009bbb",
   "metadata": {},
   "outputs": [],
   "source": [
    "for i in range(len(df)):\n",
    "    d = 0\n",
    "    for j in range(0,len(df.columns)-2):\n",
    "        diff = (df.iloc[i,j]) - q[j]\n",
    "        d = d + (diff*diff)\n",
    "    d = d**0.5 #square root\n",
    "    df.iloc[i,2] = d"
   ]
  },
  {
   "cell_type": "code",
   "execution_count": 15,
   "id": "65e809a9",
   "metadata": {},
   "outputs": [
    {
     "data": {
      "text/html": [
       "<div>\n",
       "<style scoped>\n",
       "    .dataframe tbody tr th:only-of-type {\n",
       "        vertical-align: middle;\n",
       "    }\n",
       "\n",
       "    .dataframe tbody tr th {\n",
       "        vertical-align: top;\n",
       "    }\n",
       "\n",
       "    .dataframe thead th {\n",
       "        text-align: right;\n",
       "    }\n",
       "</style>\n",
       "<table border=\"1\" class=\"dataframe\">\n",
       "  <thead>\n",
       "    <tr style=\"text-align: right;\">\n",
       "      <th></th>\n",
       "      <th>Sepal Length</th>\n",
       "      <th>Sepal Width</th>\n",
       "      <th>Distance</th>\n",
       "      <th>Species</th>\n",
       "    </tr>\n",
       "  </thead>\n",
       "  <tbody>\n",
       "    <tr>\n",
       "      <th>0</th>\n",
       "      <td>5.3</td>\n",
       "      <td>3.7</td>\n",
       "      <td>0.608276</td>\n",
       "      <td>Setosa</td>\n",
       "    </tr>\n",
       "    <tr>\n",
       "      <th>1</th>\n",
       "      <td>5.1</td>\n",
       "      <td>3.8</td>\n",
       "      <td>0.707107</td>\n",
       "      <td>Setosa</td>\n",
       "    </tr>\n",
       "    <tr>\n",
       "      <th>2</th>\n",
       "      <td>7.2</td>\n",
       "      <td>3.0</td>\n",
       "      <td>2.002498</td>\n",
       "      <td>Virginica</td>\n",
       "    </tr>\n",
       "    <tr>\n",
       "      <th>3</th>\n",
       "      <td>5.4</td>\n",
       "      <td>3.4</td>\n",
       "      <td>0.360555</td>\n",
       "      <td>Setosa</td>\n",
       "    </tr>\n",
       "    <tr>\n",
       "      <th>4</th>\n",
       "      <td>5.1</td>\n",
       "      <td>3.3</td>\n",
       "      <td>0.223607</td>\n",
       "      <td>Setosa</td>\n",
       "    </tr>\n",
       "    <tr>\n",
       "      <th>5</th>\n",
       "      <td>5.4</td>\n",
       "      <td>3.9</td>\n",
       "      <td>0.824621</td>\n",
       "      <td>Setosa</td>\n",
       "    </tr>\n",
       "    <tr>\n",
       "      <th>6</th>\n",
       "      <td>7.4</td>\n",
       "      <td>2.8</td>\n",
       "      <td>2.22036</td>\n",
       "      <td>Virginica</td>\n",
       "    </tr>\n",
       "    <tr>\n",
       "      <th>7</th>\n",
       "      <td>6.1</td>\n",
       "      <td>2.8</td>\n",
       "      <td>0.948683</td>\n",
       "      <td>Verscicolor</td>\n",
       "    </tr>\n",
       "    <tr>\n",
       "      <th>8</th>\n",
       "      <td>7.3</td>\n",
       "      <td>2.9</td>\n",
       "      <td>2.109502</td>\n",
       "      <td>Virginica</td>\n",
       "    </tr>\n",
       "    <tr>\n",
       "      <th>9</th>\n",
       "      <td>6.0</td>\n",
       "      <td>2.7</td>\n",
       "      <td>0.894427</td>\n",
       "      <td>Verscicolor</td>\n",
       "    </tr>\n",
       "    <tr>\n",
       "      <th>10</th>\n",
       "      <td>5.8</td>\n",
       "      <td>2.8</td>\n",
       "      <td>0.67082</td>\n",
       "      <td>Virginica</td>\n",
       "    </tr>\n",
       "    <tr>\n",
       "      <th>11</th>\n",
       "      <td>6.3</td>\n",
       "      <td>2.3</td>\n",
       "      <td>1.360147</td>\n",
       "      <td>Verscicolor</td>\n",
       "    </tr>\n",
       "    <tr>\n",
       "      <th>12</th>\n",
       "      <td>5.1</td>\n",
       "      <td>2.5</td>\n",
       "      <td>0.608276</td>\n",
       "      <td>Verscicolor</td>\n",
       "    </tr>\n",
       "    <tr>\n",
       "      <th>13</th>\n",
       "      <td>6.3</td>\n",
       "      <td>2.5</td>\n",
       "      <td>1.252996</td>\n",
       "      <td>Verscicolor</td>\n",
       "    </tr>\n",
       "    <tr>\n",
       "      <th>14</th>\n",
       "      <td>5.5</td>\n",
       "      <td>2.4</td>\n",
       "      <td>0.761577</td>\n",
       "      <td>Verscicolor</td>\n",
       "    </tr>\n",
       "  </tbody>\n",
       "</table>\n",
       "</div>"
      ],
      "text/plain": [
       "    Sepal Length  Sepal Width  Distance      Species\n",
       "0            5.3          3.7  0.608276       Setosa\n",
       "1            5.1          3.8  0.707107       Setosa\n",
       "2            7.2          3.0  2.002498    Virginica\n",
       "3            5.4          3.4  0.360555       Setosa\n",
       "4            5.1          3.3  0.223607       Setosa\n",
       "5            5.4          3.9  0.824621       Setosa\n",
       "6            7.4          2.8   2.22036    Virginica\n",
       "7            6.1          2.8  0.948683  Verscicolor\n",
       "8            7.3          2.9  2.109502    Virginica\n",
       "9            6.0          2.7  0.894427  Verscicolor\n",
       "10           5.8          2.8   0.67082    Virginica\n",
       "11           6.3          2.3  1.360147  Verscicolor\n",
       "12           5.1          2.5  0.608276  Verscicolor\n",
       "13           6.3          2.5  1.252996  Verscicolor\n",
       "14           5.5          2.4  0.761577  Verscicolor"
      ]
     },
     "execution_count": 15,
     "metadata": {},
     "output_type": "execute_result"
    }
   ],
   "source": [
    "df"
   ]
  },
  {
   "cell_type": "code",
   "execution_count": 20,
   "id": "91ae0c8b",
   "metadata": {},
   "outputs": [
    {
     "data": {
      "text/html": [
       "<div>\n",
       "<style scoped>\n",
       "    .dataframe tbody tr th:only-of-type {\n",
       "        vertical-align: middle;\n",
       "    }\n",
       "\n",
       "    .dataframe tbody tr th {\n",
       "        vertical-align: top;\n",
       "    }\n",
       "\n",
       "    .dataframe thead th {\n",
       "        text-align: right;\n",
       "    }\n",
       "</style>\n",
       "<table border=\"1\" class=\"dataframe\">\n",
       "  <thead>\n",
       "    <tr style=\"text-align: right;\">\n",
       "      <th></th>\n",
       "      <th>Sepal Length</th>\n",
       "      <th>Sepal Width</th>\n",
       "      <th>Distance</th>\n",
       "      <th>Species</th>\n",
       "    </tr>\n",
       "  </thead>\n",
       "  <tbody>\n",
       "    <tr>\n",
       "      <th>4</th>\n",
       "      <td>5.1</td>\n",
       "      <td>3.3</td>\n",
       "      <td>0.223607</td>\n",
       "      <td>Setosa</td>\n",
       "    </tr>\n",
       "    <tr>\n",
       "      <th>3</th>\n",
       "      <td>5.4</td>\n",
       "      <td>3.4</td>\n",
       "      <td>0.360555</td>\n",
       "      <td>Setosa</td>\n",
       "    </tr>\n",
       "    <tr>\n",
       "      <th>0</th>\n",
       "      <td>5.3</td>\n",
       "      <td>3.7</td>\n",
       "      <td>0.608276</td>\n",
       "      <td>Setosa</td>\n",
       "    </tr>\n",
       "    <tr>\n",
       "      <th>12</th>\n",
       "      <td>5.1</td>\n",
       "      <td>2.5</td>\n",
       "      <td>0.608276</td>\n",
       "      <td>Verscicolor</td>\n",
       "    </tr>\n",
       "    <tr>\n",
       "      <th>10</th>\n",
       "      <td>5.8</td>\n",
       "      <td>2.8</td>\n",
       "      <td>0.67082</td>\n",
       "      <td>Virginica</td>\n",
       "    </tr>\n",
       "    <tr>\n",
       "      <th>1</th>\n",
       "      <td>5.1</td>\n",
       "      <td>3.8</td>\n",
       "      <td>0.707107</td>\n",
       "      <td>Setosa</td>\n",
       "    </tr>\n",
       "    <tr>\n",
       "      <th>14</th>\n",
       "      <td>5.5</td>\n",
       "      <td>2.4</td>\n",
       "      <td>0.761577</td>\n",
       "      <td>Verscicolor</td>\n",
       "    </tr>\n",
       "    <tr>\n",
       "      <th>5</th>\n",
       "      <td>5.4</td>\n",
       "      <td>3.9</td>\n",
       "      <td>0.824621</td>\n",
       "      <td>Setosa</td>\n",
       "    </tr>\n",
       "    <tr>\n",
       "      <th>9</th>\n",
       "      <td>6.0</td>\n",
       "      <td>2.7</td>\n",
       "      <td>0.894427</td>\n",
       "      <td>Verscicolor</td>\n",
       "    </tr>\n",
       "    <tr>\n",
       "      <th>7</th>\n",
       "      <td>6.1</td>\n",
       "      <td>2.8</td>\n",
       "      <td>0.948683</td>\n",
       "      <td>Verscicolor</td>\n",
       "    </tr>\n",
       "    <tr>\n",
       "      <th>13</th>\n",
       "      <td>6.3</td>\n",
       "      <td>2.5</td>\n",
       "      <td>1.252996</td>\n",
       "      <td>Verscicolor</td>\n",
       "    </tr>\n",
       "    <tr>\n",
       "      <th>11</th>\n",
       "      <td>6.3</td>\n",
       "      <td>2.3</td>\n",
       "      <td>1.360147</td>\n",
       "      <td>Verscicolor</td>\n",
       "    </tr>\n",
       "    <tr>\n",
       "      <th>2</th>\n",
       "      <td>7.2</td>\n",
       "      <td>3.0</td>\n",
       "      <td>2.002498</td>\n",
       "      <td>Virginica</td>\n",
       "    </tr>\n",
       "    <tr>\n",
       "      <th>8</th>\n",
       "      <td>7.3</td>\n",
       "      <td>2.9</td>\n",
       "      <td>2.109502</td>\n",
       "      <td>Virginica</td>\n",
       "    </tr>\n",
       "    <tr>\n",
       "      <th>6</th>\n",
       "      <td>7.4</td>\n",
       "      <td>2.8</td>\n",
       "      <td>2.22036</td>\n",
       "      <td>Virginica</td>\n",
       "    </tr>\n",
       "  </tbody>\n",
       "</table>\n",
       "</div>"
      ],
      "text/plain": [
       "    Sepal Length  Sepal Width  Distance      Species\n",
       "4            5.1          3.3  0.223607       Setosa\n",
       "3            5.4          3.4  0.360555       Setosa\n",
       "0            5.3          3.7  0.608276       Setosa\n",
       "12           5.1          2.5  0.608276  Verscicolor\n",
       "10           5.8          2.8   0.67082    Virginica\n",
       "1            5.1          3.8  0.707107       Setosa\n",
       "14           5.5          2.4  0.761577  Verscicolor\n",
       "5            5.4          3.9  0.824621       Setosa\n",
       "9            6.0          2.7  0.894427  Verscicolor\n",
       "7            6.1          2.8  0.948683  Verscicolor\n",
       "13           6.3          2.5  1.252996  Verscicolor\n",
       "11           6.3          2.3  1.360147  Verscicolor\n",
       "2            7.2          3.0  2.002498    Virginica\n",
       "8            7.3          2.9  2.109502    Virginica\n",
       "6            7.4          2.8   2.22036    Virginica"
      ]
     },
     "execution_count": 20,
     "metadata": {},
     "output_type": "execute_result"
    }
   ],
   "source": [
    "df=df.sort_values(by = ['Distance'])\n",
    "df"
   ]
  },
  {
   "cell_type": "code",
   "execution_count": 17,
   "id": "f5a59416",
   "metadata": {},
   "outputs": [
    {
     "data": {
      "text/plain": [
       "array(['Setosa', 'Verscicolor', 'Virginica'], dtype=object)"
      ]
     },
     "execution_count": 17,
     "metadata": {},
     "output_type": "execute_result"
    }
   ],
   "source": [
    "#let k = 5\n",
    "k = 5\n",
    "target_values = df['Species'].unique()\n",
    "target_values"
   ]
  },
  {
   "cell_type": "code",
   "execution_count": 18,
   "id": "2d446b44",
   "metadata": {},
   "outputs": [],
   "source": [
    "ans = \"\"\n",
    "maxValue = -1\n",
    "for i in target_values:\n",
    "    val = 0\n",
    "    for j in df.iloc[0:k,3]:\n",
    "        if(i == j):\n",
    "            val += 1\n",
    "    if(val>maxValue):\n",
    "        maxValue = val\n",
    "        ans = i"
   ]
  },
  {
   "cell_type": "code",
   "execution_count": 19,
   "id": "3fbc4876",
   "metadata": {},
   "outputs": [
    {
     "name": "stdout",
     "output_type": "stream",
     "text": [
      "target classification :  Setosa\n"
     ]
    }
   ],
   "source": [
    "print(\"target classification : \",ans)"
   ]
  },
  {
   "cell_type": "code",
   "execution_count": null,
   "id": "3daa994c",
   "metadata": {},
   "outputs": [],
   "source": []
  }
 ],
 "metadata": {
  "kernelspec": {
   "display_name": "Python 3 (ipykernel)",
   "language": "python",
   "name": "python3"
  },
  "language_info": {
   "codemirror_mode": {
    "name": "ipython",
    "version": 3
   },
   "file_extension": ".py",
   "mimetype": "text/x-python",
   "name": "python",
   "nbconvert_exporter": "python",
   "pygments_lexer": "ipython3",
   "version": "3.9.13"
  }
 },
 "nbformat": 4,
 "nbformat_minor": 5
}
